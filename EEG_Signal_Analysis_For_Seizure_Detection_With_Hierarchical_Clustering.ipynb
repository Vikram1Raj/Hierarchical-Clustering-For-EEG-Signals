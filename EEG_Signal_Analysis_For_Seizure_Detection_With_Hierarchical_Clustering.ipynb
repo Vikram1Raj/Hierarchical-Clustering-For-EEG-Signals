{
  "cells": [
    {
      "cell_type": "markdown",
      "metadata": {
        "id": "view-in-github",
        "colab_type": "text"
      },
      "source": [
        "<a href=\"https://colab.research.google.com/github/Vikram1Raj/Hierarchical-Clustering-For-EEG-Signals-For-Seizure/blob/main/EEG_Signal_Analysis_For_Seizure_Detection_With_Hierarchical_Clustering.ipynb\" target=\"_parent\"><img src=\"https://colab.research.google.com/assets/colab-badge.svg\" alt=\"Open In Colab\"/></a>"
      ]
    },
    {
      "cell_type": "code",
      "execution_count": null,
      "metadata": {
        "id": "ZGalqqrQHpRM"
      },
      "outputs": [],
      "source": [
        "import numpy as np\n",
        "import pandas as pd\n",
        "import pickle\n",
        "import seaborn as sns\n",
        "import matplotlib.pyplot as plt\n",
        "from tabulate import tabulate\n",
        "from collections import Counter\n",
        "\n",
        "from keras.models import load_model\n",
        "from tensorflow.keras import regularizers\n",
        "from sklearn.model_selection import train_test_split\n",
        "from sklearn.metrics import confusion_matrix\n",
        "\n",
        "from sklearn.preprocessing import StandardScaler\n",
        "from scipy.cluster.hierarchy import dendrogram, linkage\n",
        "from scipy.cluster.hierarchy import fcluster\n",
        "from keras.utils import to_categorical\n",
        "\n",
        "from sklearn import svm\n",
        "from sklearn.svm import SVC\n",
        "from tensorflow.keras.models import Sequential\n",
        "from tensorflow.keras.layers import Conv1D, MaxPooling1D, Flatten, Dense, Dropout\n",
        "\n",
        "from tensorflow.keras.optimizers import Adam"
      ]
    },
    {
      "cell_type": "code",
      "execution_count": null,
      "metadata": {
        "id": "YQ2RBtJ5H21t"
      },
      "outputs": [],
      "source": [
        "data =  pd.read_csv('')"
      ]
    },
    {
      "cell_type": "code",
      "execution_count": null,
      "metadata": {
        "colab": {
          "base_uri": "https://localhost:8080/"
        },
        "id": "7DauQ_NIH4Lt",
        "outputId": "df8521d8-6ae9-4d36-ad70-34e78a47a460"
      },
      "outputs": [
        {
          "data": {
            "text/plain": [
              "(2097150, 24)"
            ]
          },
          "execution_count": 72,
          "metadata": {},
          "output_type": "execute_result"
        }
      ],
      "source": [
        "data.shape"
      ]
    },
    {
      "cell_type": "code",
      "execution_count": null,
      "metadata": {
        "colab": {
          "base_uri": "https://localhost:8080/",
          "height": 236
        },
        "id": "piUW77iCH5IR",
        "outputId": "6ddb6ad1-6019-4b69-81bd-52953b57a205"
      },
      "outputs": [
        {
          "data": {
            "application/vnd.google.colaboratory.intrinsic+json": {
              "type": "dataframe",
              "variable_name": "data"
            },
            "text/html": [
              "\n",
              "  <div id=\"df-468c1e4b-abec-4c1d-ae55-56aadeaf70ee\" class=\"colab-df-container\">\n",
              "    <div>\n",
              "<style scoped>\n",
              "    .dataframe tbody tr th:only-of-type {\n",
              "        vertical-align: middle;\n",
              "    }\n",
              "\n",
              "    .dataframe tbody tr th {\n",
              "        vertical-align: top;\n",
              "    }\n",
              "\n",
              "    .dataframe thead th {\n",
              "        text-align: right;\n",
              "    }\n",
              "</style>\n",
              "<table border=\"1\" class=\"dataframe\">\n",
              "  <thead>\n",
              "    <tr style=\"text-align: right;\">\n",
              "      <th></th>\n",
              "      <th># FP1-F7</th>\n",
              "      <th>C3-P3</th>\n",
              "      <th>C4-P4</th>\n",
              "      <th>CZ-PZ</th>\n",
              "      <th>F3-C3</th>\n",
              "      <th>F4-C4</th>\n",
              "      <th>F7-T7</th>\n",
              "      <th>F8-T8</th>\n",
              "      <th>FP1-F3</th>\n",
              "      <th>FP2-F4</th>\n",
              "      <th>...</th>\n",
              "      <th>P3-O1</th>\n",
              "      <th>P4-O2</th>\n",
              "      <th>P7-O1</th>\n",
              "      <th>P7-T7</th>\n",
              "      <th>P8-O2</th>\n",
              "      <th>T7-FT9</th>\n",
              "      <th>T7-P7</th>\n",
              "      <th>T8-P8-0</th>\n",
              "      <th>T8-P8-1</th>\n",
              "      <th>Outcome</th>\n",
              "    </tr>\n",
              "  </thead>\n",
              "  <tbody>\n",
              "    <tr>\n",
              "      <th>0</th>\n",
              "      <td>0.000020</td>\n",
              "      <td>0.000010</td>\n",
              "      <td>0.000022</td>\n",
              "      <td>0.000037</td>\n",
              "      <td>0.000032</td>\n",
              "      <td>0.000035</td>\n",
              "      <td>0.000016</td>\n",
              "      <td>0.000046</td>\n",
              "      <td>-0.000007</td>\n",
              "      <td>0.000043</td>\n",
              "      <td>...</td>\n",
              "      <td>0.000024</td>\n",
              "      <td>-0.000030</td>\n",
              "      <td>0.000010</td>\n",
              "      <td>-0.000011</td>\n",
              "      <td>-0.000037</td>\n",
              "      <td>0.000008</td>\n",
              "      <td>0.000012</td>\n",
              "      <td>0.000021</td>\n",
              "      <td>0.000021</td>\n",
              "      <td>0.0</td>\n",
              "    </tr>\n",
              "    <tr>\n",
              "      <th>1</th>\n",
              "      <td>0.000022</td>\n",
              "      <td>0.000008</td>\n",
              "      <td>0.000021</td>\n",
              "      <td>0.000039</td>\n",
              "      <td>0.000030</td>\n",
              "      <td>0.000032</td>\n",
              "      <td>0.000015</td>\n",
              "      <td>0.000039</td>\n",
              "      <td>-0.000006</td>\n",
              "      <td>0.000042</td>\n",
              "      <td>...</td>\n",
              "      <td>0.000026</td>\n",
              "      <td>-0.000017</td>\n",
              "      <td>0.000012</td>\n",
              "      <td>-0.000008</td>\n",
              "      <td>-0.000029</td>\n",
              "      <td>0.000010</td>\n",
              "      <td>0.000009</td>\n",
              "      <td>0.000023</td>\n",
              "      <td>0.000023</td>\n",
              "      <td>0.0</td>\n",
              "    </tr>\n",
              "    <tr>\n",
              "      <th>2</th>\n",
              "      <td>0.000021</td>\n",
              "      <td>0.000012</td>\n",
              "      <td>0.000021</td>\n",
              "      <td>0.000040</td>\n",
              "      <td>0.000025</td>\n",
              "      <td>0.000030</td>\n",
              "      <td>0.000013</td>\n",
              "      <td>0.000036</td>\n",
              "      <td>-0.000006</td>\n",
              "      <td>0.000040</td>\n",
              "      <td>...</td>\n",
              "      <td>0.000027</td>\n",
              "      <td>-0.000018</td>\n",
              "      <td>0.000014</td>\n",
              "      <td>-0.000009</td>\n",
              "      <td>-0.000034</td>\n",
              "      <td>0.000012</td>\n",
              "      <td>0.000009</td>\n",
              "      <td>0.000027</td>\n",
              "      <td>0.000027</td>\n",
              "      <td>0.0</td>\n",
              "    </tr>\n",
              "    <tr>\n",
              "      <th>3</th>\n",
              "      <td>0.000019</td>\n",
              "      <td>0.000012</td>\n",
              "      <td>0.000021</td>\n",
              "      <td>0.000039</td>\n",
              "      <td>0.000023</td>\n",
              "      <td>0.000028</td>\n",
              "      <td>0.000013</td>\n",
              "      <td>0.000035</td>\n",
              "      <td>-0.000008</td>\n",
              "      <td>0.000036</td>\n",
              "      <td>...</td>\n",
              "      <td>0.000030</td>\n",
              "      <td>-0.000024</td>\n",
              "      <td>0.000015</td>\n",
              "      <td>-0.000009</td>\n",
              "      <td>-0.000042</td>\n",
              "      <td>0.000009</td>\n",
              "      <td>0.000010</td>\n",
              "      <td>0.000033</td>\n",
              "      <td>0.000033</td>\n",
              "      <td>0.0</td>\n",
              "    </tr>\n",
              "    <tr>\n",
              "      <th>4</th>\n",
              "      <td>0.000019</td>\n",
              "      <td>0.000012</td>\n",
              "      <td>0.000021</td>\n",
              "      <td>0.000036</td>\n",
              "      <td>0.000023</td>\n",
              "      <td>0.000024</td>\n",
              "      <td>0.000012</td>\n",
              "      <td>0.000024</td>\n",
              "      <td>-0.000009</td>\n",
              "      <td>0.000032</td>\n",
              "      <td>...</td>\n",
              "      <td>0.000032</td>\n",
              "      <td>-0.000014</td>\n",
              "      <td>0.000017</td>\n",
              "      <td>-0.000008</td>\n",
              "      <td>-0.000031</td>\n",
              "      <td>0.000009</td>\n",
              "      <td>0.000008</td>\n",
              "      <td>0.000035</td>\n",
              "      <td>0.000035</td>\n",
              "      <td>0.0</td>\n",
              "    </tr>\n",
              "  </tbody>\n",
              "</table>\n",
              "<p>5 rows × 24 columns</p>\n",
              "</div>\n",
              "    <div class=\"colab-df-buttons\">\n",
              "\n",
              "  <div class=\"colab-df-container\">\n",
              "    <button class=\"colab-df-convert\" onclick=\"convertToInteractive('df-468c1e4b-abec-4c1d-ae55-56aadeaf70ee')\"\n",
              "            title=\"Convert this dataframe to an interactive table.\"\n",
              "            style=\"display:none;\">\n",
              "\n",
              "  <svg xmlns=\"http://www.w3.org/2000/svg\" height=\"24px\" viewBox=\"0 -960 960 960\">\n",
              "    <path d=\"M120-120v-720h720v720H120Zm60-500h600v-160H180v160Zm220 220h160v-160H400v160Zm0 220h160v-160H400v160ZM180-400h160v-160H180v160Zm440 0h160v-160H620v160ZM180-180h160v-160H180v160Zm440 0h160v-160H620v160Z\"/>\n",
              "  </svg>\n",
              "    </button>\n",
              "\n",
              "  <style>\n",
              "    .colab-df-container {\n",
              "      display:flex;\n",
              "      gap: 12px;\n",
              "    }\n",
              "\n",
              "    .colab-df-convert {\n",
              "      background-color: #E8F0FE;\n",
              "      border: none;\n",
              "      border-radius: 50%;\n",
              "      cursor: pointer;\n",
              "      display: none;\n",
              "      fill: #1967D2;\n",
              "      height: 32px;\n",
              "      padding: 0 0 0 0;\n",
              "      width: 32px;\n",
              "    }\n",
              "\n",
              "    .colab-df-convert:hover {\n",
              "      background-color: #E2EBFA;\n",
              "      box-shadow: 0px 1px 2px rgba(60, 64, 67, 0.3), 0px 1px 3px 1px rgba(60, 64, 67, 0.15);\n",
              "      fill: #174EA6;\n",
              "    }\n",
              "\n",
              "    .colab-df-buttons div {\n",
              "      margin-bottom: 4px;\n",
              "    }\n",
              "\n",
              "    [theme=dark] .colab-df-convert {\n",
              "      background-color: #3B4455;\n",
              "      fill: #D2E3FC;\n",
              "    }\n",
              "\n",
              "    [theme=dark] .colab-df-convert:hover {\n",
              "      background-color: #434B5C;\n",
              "      box-shadow: 0px 1px 3px 1px rgba(0, 0, 0, 0.15);\n",
              "      filter: drop-shadow(0px 1px 2px rgba(0, 0, 0, 0.3));\n",
              "      fill: #FFFFFF;\n",
              "    }\n",
              "  </style>\n",
              "\n",
              "    <script>\n",
              "      const buttonEl =\n",
              "        document.querySelector('#df-468c1e4b-abec-4c1d-ae55-56aadeaf70ee button.colab-df-convert');\n",
              "      buttonEl.style.display =\n",
              "        google.colab.kernel.accessAllowed ? 'block' : 'none';\n",
              "\n",
              "      async function convertToInteractive(key) {\n",
              "        const element = document.querySelector('#df-468c1e4b-abec-4c1d-ae55-56aadeaf70ee');\n",
              "        const dataTable =\n",
              "          await google.colab.kernel.invokeFunction('convertToInteractive',\n",
              "                                                    [key], {});\n",
              "        if (!dataTable) return;\n",
              "\n",
              "        const docLinkHtml = 'Like what you see? Visit the ' +\n",
              "          '<a target=\"_blank\" href=https://colab.research.google.com/notebooks/data_table.ipynb>data table notebook</a>'\n",
              "          + ' to learn more about interactive tables.';\n",
              "        element.innerHTML = '';\n",
              "        dataTable['output_type'] = 'display_data';\n",
              "        await google.colab.output.renderOutput(dataTable, element);\n",
              "        const docLink = document.createElement('div');\n",
              "        docLink.innerHTML = docLinkHtml;\n",
              "        element.appendChild(docLink);\n",
              "      }\n",
              "    </script>\n",
              "  </div>\n",
              "\n",
              "\n",
              "<div id=\"df-9508eeed-316f-4a47-ae5c-c4f179b0f476\">\n",
              "  <button class=\"colab-df-quickchart\" onclick=\"quickchart('df-9508eeed-316f-4a47-ae5c-c4f179b0f476')\"\n",
              "            title=\"Suggest charts\"\n",
              "            style=\"display:none;\">\n",
              "\n",
              "<svg xmlns=\"http://www.w3.org/2000/svg\" height=\"24px\"viewBox=\"0 0 24 24\"\n",
              "     width=\"24px\">\n",
              "    <g>\n",
              "        <path d=\"M19 3H5c-1.1 0-2 .9-2 2v14c0 1.1.9 2 2 2h14c1.1 0 2-.9 2-2V5c0-1.1-.9-2-2-2zM9 17H7v-7h2v7zm4 0h-2V7h2v10zm4 0h-2v-4h2v4z\"/>\n",
              "    </g>\n",
              "</svg>\n",
              "  </button>\n",
              "\n",
              "<style>\n",
              "  .colab-df-quickchart {\n",
              "      --bg-color: #E8F0FE;\n",
              "      --fill-color: #1967D2;\n",
              "      --hover-bg-color: #E2EBFA;\n",
              "      --hover-fill-color: #174EA6;\n",
              "      --disabled-fill-color: #AAA;\n",
              "      --disabled-bg-color: #DDD;\n",
              "  }\n",
              "\n",
              "  [theme=dark] .colab-df-quickchart {\n",
              "      --bg-color: #3B4455;\n",
              "      --fill-color: #D2E3FC;\n",
              "      --hover-bg-color: #434B5C;\n",
              "      --hover-fill-color: #FFFFFF;\n",
              "      --disabled-bg-color: #3B4455;\n",
              "      --disabled-fill-color: #666;\n",
              "  }\n",
              "\n",
              "  .colab-df-quickchart {\n",
              "    background-color: var(--bg-color);\n",
              "    border: none;\n",
              "    border-radius: 50%;\n",
              "    cursor: pointer;\n",
              "    display: none;\n",
              "    fill: var(--fill-color);\n",
              "    height: 32px;\n",
              "    padding: 0;\n",
              "    width: 32px;\n",
              "  }\n",
              "\n",
              "  .colab-df-quickchart:hover {\n",
              "    background-color: var(--hover-bg-color);\n",
              "    box-shadow: 0 1px 2px rgba(60, 64, 67, 0.3), 0 1px 3px 1px rgba(60, 64, 67, 0.15);\n",
              "    fill: var(--button-hover-fill-color);\n",
              "  }\n",
              "\n",
              "  .colab-df-quickchart-complete:disabled,\n",
              "  .colab-df-quickchart-complete:disabled:hover {\n",
              "    background-color: var(--disabled-bg-color);\n",
              "    fill: var(--disabled-fill-color);\n",
              "    box-shadow: none;\n",
              "  }\n",
              "\n",
              "  .colab-df-spinner {\n",
              "    border: 2px solid var(--fill-color);\n",
              "    border-color: transparent;\n",
              "    border-bottom-color: var(--fill-color);\n",
              "    animation:\n",
              "      spin 1s steps(1) infinite;\n",
              "  }\n",
              "\n",
              "  @keyframes spin {\n",
              "    0% {\n",
              "      border-color: transparent;\n",
              "      border-bottom-color: var(--fill-color);\n",
              "      border-left-color: var(--fill-color);\n",
              "    }\n",
              "    20% {\n",
              "      border-color: transparent;\n",
              "      border-left-color: var(--fill-color);\n",
              "      border-top-color: var(--fill-color);\n",
              "    }\n",
              "    30% {\n",
              "      border-color: transparent;\n",
              "      border-left-color: var(--fill-color);\n",
              "      border-top-color: var(--fill-color);\n",
              "      border-right-color: var(--fill-color);\n",
              "    }\n",
              "    40% {\n",
              "      border-color: transparent;\n",
              "      border-right-color: var(--fill-color);\n",
              "      border-top-color: var(--fill-color);\n",
              "    }\n",
              "    60% {\n",
              "      border-color: transparent;\n",
              "      border-right-color: var(--fill-color);\n",
              "    }\n",
              "    80% {\n",
              "      border-color: transparent;\n",
              "      border-right-color: var(--fill-color);\n",
              "      border-bottom-color: var(--fill-color);\n",
              "    }\n",
              "    90% {\n",
              "      border-color: transparent;\n",
              "      border-bottom-color: var(--fill-color);\n",
              "    }\n",
              "  }\n",
              "</style>\n",
              "\n",
              "  <script>\n",
              "    async function quickchart(key) {\n",
              "      const quickchartButtonEl =\n",
              "        document.querySelector('#' + key + ' button');\n",
              "      quickchartButtonEl.disabled = true;  // To prevent multiple clicks.\n",
              "      quickchartButtonEl.classList.add('colab-df-spinner');\n",
              "      try {\n",
              "        const charts = await google.colab.kernel.invokeFunction(\n",
              "            'suggestCharts', [key], {});\n",
              "      } catch (error) {\n",
              "        console.error('Error during call to suggestCharts:', error);\n",
              "      }\n",
              "      quickchartButtonEl.classList.remove('colab-df-spinner');\n",
              "      quickchartButtonEl.classList.add('colab-df-quickchart-complete');\n",
              "    }\n",
              "    (() => {\n",
              "      let quickchartButtonEl =\n",
              "        document.querySelector('#df-9508eeed-316f-4a47-ae5c-c4f179b0f476 button');\n",
              "      quickchartButtonEl.style.display =\n",
              "        google.colab.kernel.accessAllowed ? 'block' : 'none';\n",
              "    })();\n",
              "  </script>\n",
              "</div>\n",
              "\n",
              "    </div>\n",
              "  </div>\n"
            ],
            "text/plain": [
              "   # FP1-F7     C3-P3     C4-P4     CZ-PZ     F3-C3     F4-C4     F7-T7  \\\n",
              "0  0.000020  0.000010  0.000022  0.000037  0.000032  0.000035  0.000016   \n",
              "1  0.000022  0.000008  0.000021  0.000039  0.000030  0.000032  0.000015   \n",
              "2  0.000021  0.000012  0.000021  0.000040  0.000025  0.000030  0.000013   \n",
              "3  0.000019  0.000012  0.000021  0.000039  0.000023  0.000028  0.000013   \n",
              "4  0.000019  0.000012  0.000021  0.000036  0.000023  0.000024  0.000012   \n",
              "\n",
              "      F8-T8    FP1-F3    FP2-F4  ...     P3-O1     P4-O2     P7-O1     P7-T7  \\\n",
              "0  0.000046 -0.000007  0.000043  ...  0.000024 -0.000030  0.000010 -0.000011   \n",
              "1  0.000039 -0.000006  0.000042  ...  0.000026 -0.000017  0.000012 -0.000008   \n",
              "2  0.000036 -0.000006  0.000040  ...  0.000027 -0.000018  0.000014 -0.000009   \n",
              "3  0.000035 -0.000008  0.000036  ...  0.000030 -0.000024  0.000015 -0.000009   \n",
              "4  0.000024 -0.000009  0.000032  ...  0.000032 -0.000014  0.000017 -0.000008   \n",
              "\n",
              "      P8-O2    T7-FT9     T7-P7   T8-P8-0   T8-P8-1  Outcome  \n",
              "0 -0.000037  0.000008  0.000012  0.000021  0.000021      0.0  \n",
              "1 -0.000029  0.000010  0.000009  0.000023  0.000023      0.0  \n",
              "2 -0.000034  0.000012  0.000009  0.000027  0.000027      0.0  \n",
              "3 -0.000042  0.000009  0.000010  0.000033  0.000033      0.0  \n",
              "4 -0.000031  0.000009  0.000008  0.000035  0.000035      0.0  \n",
              "\n",
              "[5 rows x 24 columns]"
            ]
          },
          "execution_count": 73,
          "metadata": {},
          "output_type": "execute_result"
        }
      ],
      "source": [
        "data.head()"
      ]
    },
    {
      "cell_type": "code",
      "execution_count": null,
      "metadata": {
        "id": "94sU_vEXH6EC"
      },
      "outputs": [],
      "source": [
        "#Count of Ictal and Preictal\n",
        "class_counts = data['Outcome'].value_counts()"
      ]
    },
    {
      "cell_type": "code",
      "execution_count": null,
      "metadata": {
        "colab": {
          "base_uri": "https://localhost:8080/"
        },
        "id": "pqYL7M1Z9pHX",
        "outputId": "42f5967d-8bf5-43e9-fbec-14dae1b5ffe1"
      },
      "outputs": [
        {
          "data": {
            "text/plain": [
              "0.0    1048575\n",
              "1.0    1048575\n",
              "Name: Outcome, dtype: int64"
            ]
          },
          "execution_count": 75,
          "metadata": {},
          "output_type": "execute_result"
        }
      ],
      "source": [
        "class_counts"
      ]
    },
    {
      "cell_type": "code",
      "execution_count": null,
      "metadata": {
        "colab": {
          "base_uri": "https://localhost:8080/"
        },
        "id": "vgKKTQIWH7PZ",
        "outputId": "f7ab9178-fe13-4d0b-d422-6930cea6ca99"
      },
      "outputs": [
        {
          "data": {
            "text/plain": [
              "1048575"
            ]
          },
          "execution_count": 76,
          "metadata": {},
          "output_type": "execute_result"
        }
      ],
      "source": [
        "#Preictal Count\n",
        "class_counts[0]"
      ]
    },
    {
      "cell_type": "code",
      "execution_count": null,
      "metadata": {
        "colab": {
          "base_uri": "https://localhost:8080/"
        },
        "id": "JBJwM3HnH8L3",
        "outputId": "c9561d74-fa71-444b-949b-d4ea45645248"
      },
      "outputs": [
        {
          "data": {
            "text/plain": [
              "1048575"
            ]
          },
          "execution_count": 77,
          "metadata": {},
          "output_type": "execute_result"
        }
      ],
      "source": [
        "#Ictal Count\n",
        "class_counts[1]"
      ]
    },
    {
      "cell_type": "markdown",
      "metadata": {
        "id": "dZl0TQvCIAwd"
      },
      "source": [
        "####Graph"
      ]
    },
    {
      "cell_type": "code",
      "execution_count": null,
      "metadata": {
        "colab": {
          "base_uri": "https://localhost:8080/",
          "height": 472
        },
        "id": "1BTvnReUIEvP",
        "outputId": "d45b730f-8eb9-4002-d56c-4bd8f1cbfd44"
      },
      "outputs": [
        {
          "data": {
            "image/png": "[encoded data removed]",
            "text/plain": [
              "<Figure size 640x480 with 1 Axes>"
            ]
          },
          "metadata": {},
          "output_type": "display_data"
        }
      ],
      "source": [
        "#Plot of Ictal vs Preictal\n",
        "plt.bar(class_counts.index, class_counts.values, color=['blue', 'orange'])\n",
        "plt.xlabel('Class')\n",
        "plt.ylabel('Count')\n",
        "plt.title('Distribution of Ictal and Preictal Readings')\n",
        "plt.xticks(class_counts.index, ['Preictal', 'Ictal'])\n",
        "plt.show()"
      ]
    },
    {
      "cell_type": "markdown",
      "metadata": {
        "id": "ULLSXrIdIML8"
      },
      "source": [
        "##Hierarchical Clustering\n"
      ]
    },
    {
      "cell_type": "markdown",
      "metadata": {
        "id": "jYJawm3vIPIY"
      },
      "source": [
        "###SubSampled HC"
      ]
    },
    {
      "cell_type": "code",
      "source": [
        "#Standardize\n",
        "scaler = StandardScaler()"
      ],
      "metadata": {
        "id": "zMsx5r9qXScv"
      },
      "execution_count": null,
      "outputs": []
    },
    {
      "cell_type": "code",
      "execution_count": null,
      "metadata": {
        "id": "bxhMi4omIPww"
      },
      "outputs": [],
      "source": [
        "#Subsample\n",
        "sample_size = 30000\n",
        "subsample_data = data.sample(n=sample_size, random_state=42)\n",
        "\n",
        "X_subsampled = subsample_data.drop('Outcome', axis=1)\n",
        "X_scaled_subsampled = scaler.fit_transform(X_subsampled)"
      ]
    },
    {
      "cell_type": "code",
      "execution_count": null,
      "metadata": {
        "colab": {
          "base_uri": "https://localhost:8080/"
        },
        "id": "pyvFLIv_2PPr",
        "outputId": "0349f3ea-77ff-4d45-cc3e-325637fa507d"
      },
      "outputs": [
        {
          "name": "stdout",
          "output_type": "stream",
          "text": [
            "1.0    15018\n",
            "0.0    14982\n",
            "Name: Outcome, dtype: int64\n"
          ]
        }
      ],
      "source": [
        "class_counts = subsample_data['Outcome'].value_counts()\n",
        "\n",
        "print(class_counts)"
      ]
    },
    {
      "cell_type": "code",
      "execution_count": null,
      "metadata": {
        "id": "IEMv6MwjISHD"
      },
      "outputs": [],
      "source": [
        "Z_subsampled = linkage(X_scaled_subsampled, method='ward', metric='euclidean')"
      ]
    },
    {
      "cell_type": "code",
      "source": [
        "#Linkage Saved in a Pickle File\n",
        "pickle_file_path = <filepath>\n",
        "with open(pickle_file_path, 'wb') as file:\n",
        "    pickle.dump(Z_subsampled, file)"
      ],
      "metadata": {
        "id": "BEG4prMPv-Fg"
      },
      "execution_count": null,
      "outputs": []
    },
    {
      "cell_type": "markdown",
      "metadata": {
        "id": "OtUoDRcLDowR"
      },
      "source": [
        "###Dendogram"
      ]
    },
    {
      "cell_type": "code",
      "execution_count": null,
      "metadata": {
        "colab": {
          "base_uri": "https://localhost:8080/",
          "height": 573
        },
        "id": "mUPOh-QYAhKT",
        "outputId": "a7b4f65a-01d1-4da0-d46d-4e8bbbddde12"
      },
      "outputs": [
        {
          "data": {
            "image/png": "[encoded data removed]",
            "text/plain": [
              "<Figure size 1200x600 with 1 Axes>"
            ]
          },
          "metadata": {},
          "output_type": "display_data"
        }
      ],
      "source": [
        "#Dendrogram\n",
        "plt.figure(figsize=(12, 6))\n",
        "dendrogram(Z_subsampled)\n",
        "plt.title('Hierarchical Clustering Dendrogram (Subsampled Data)')\n",
        "plt.xlabel('Sample Index')\n",
        "plt.ylabel('Distance')\n",
        "plt.show()"
      ]
    },
    {
      "cell_type": "markdown",
      "metadata": {
        "id": "n51KDczqAodb"
      },
      "source": [
        "#Cluster Verification"
      ]
    },
    {
      "cell_type": "code",
      "execution_count": null,
      "metadata": {
        "colab": {
          "base_uri": "https://localhost:8080/"
        },
        "id": "89P-xRWJApuX",
        "outputId": "c55d32b9-7a7c-4a6e-92c6-20c8bed46be2"
      },
      "outputs": [
        {
          "name": "stdout",
          "output_type": "stream",
          "text": [
            "[10  7  7 ... 10  7  7]\n"
          ]
        }
      ],
      "source": [
        "num_clusters = 10\n",
        "\n",
        "clusters = fcluster(Z_subsampled, num_clusters, criterion='maxclust')\n",
        "\n",
        "print(clusters)"
      ]
    },
    {
      "cell_type": "code",
      "execution_count": null,
      "metadata": {
        "colab": {
          "base_uri": "https://localhost:8080/"
        },
        "id": "Z4smTQipAqYD",
        "outputId": "7fbbcd61-1b3a-4d5f-8ee3-575feeee2025"
      },
      "outputs": [
        {
          "name": "stdout",
          "output_type": "stream",
          "text": [
            "[10  7  7  6  7  7 10  7  7  6  7  3  7  7  7  7  7  7  4  7  7 10  7 10\n",
            "  7  6  7  7  7 10  5  3  7 10 10  1  7  7  1  7  3  7  7  7  7  7  6 10\n",
            "  7  9  7  7  8  7  8  7  7  6  3  1  7  6  6  7  7  6  4  7  7  7  3  7\n",
            "  3  7  7  7  3  3 10  7  7  7 10  7  6  7  7  6  7  2  7 10  7  7  7  6\n",
            "  7  7  7  7]\n",
            "\n",
            "Unique cluster labels: [ 1  2  3  4  5  6  7  8  9 10]\n",
            "Cluster 1: 835 data points\n",
            "Cluster 2: 462 data points\n",
            "Cluster 3: 2381 data points\n",
            "Cluster 4: 521 data points\n",
            "Cluster 5: 344 data points\n",
            "Cluster 6: 4227 data points\n",
            "Cluster 7: 16366 data points\n",
            "Cluster 8: 488 data points\n",
            "Cluster 9: 425 data points\n",
            "Cluster 10: 3951 data points\n"
          ]
        }
      ],
      "source": [
        "print(clusters[:100])\n",
        "\n",
        "unique_clusters = np.unique(clusters)\n",
        "print(\"\\nUnique cluster labels:\", unique_clusters)\n",
        "\n",
        "for cluster_label in unique_clusters:\n",
        "    num_points = np.sum(clusters == cluster_label)\n",
        "    print(f\"Cluster {cluster_label}: {num_points} data points\")"
      ]
    },
    {
      "cell_type": "code",
      "execution_count": null,
      "metadata": {
        "colab": {
          "base_uri": "https://localhost:8080/"
        },
        "id": "Dgn2K-8AArUf",
        "outputId": "d0cd4022-2f95-4245-8444-02c92d231a0c"
      },
      "outputs": [
        {
          "name": "stdout",
          "output_type": "stream",
          "text": [
            "Distribution of outcome labels within each cluster:\n",
            "Outcome    0.0   1.0\n",
            "cluster             \n",
            "1           41   794\n",
            "2           16   446\n",
            "3          494  1887\n",
            "4          230   291\n",
            "5            6   338\n",
            "6         1649  2578\n",
            "7        11140  5226\n",
            "8            4   484\n",
            "9           21   404\n",
            "10        1381  2570\n"
          ]
        }
      ],
      "source": [
        "subsample_data['cluster'] = clusters\n",
        "\n",
        "cluster_outcome_counts = subsample_data.groupby(['cluster', 'Outcome']).size().unstack(fill_value=0)\n",
        "\n",
        "print(\"Distribution of outcome labels within each cluster:\")\n",
        "print(cluster_outcome_counts)"
      ]
    },
    {
      "cell_type": "markdown",
      "metadata": {
        "id": "03mdhgDvODu-"
      },
      "source": [
        "#Standard And Cluster Feature Combination"
      ]
    },
    {
      "cell_type": "code",
      "execution_count": null,
      "metadata": {
        "id": "OuymU_bYFFM4"
      },
      "outputs": [],
      "source": [
        "#Threshold\n",
        "t = 10"
      ]
    },
    {
      "cell_type": "code",
      "execution_count": null,
      "metadata": {
        "id": "EdehufmnEi_l"
      },
      "outputs": [],
      "source": [
        "#Cluster labels Assigning\n",
        "cluster_labels = fcluster(Z_subsampled, t, criterion='distance')\n",
        "\n",
        "#Cluster Labels to One-Hot encoded values\n",
        "cluster_features = to_categorical(cluster_labels)\n",
        "\n",
        "#Combining Cluster Features with the scaled Data\n",
        "combined_features = np.concatenate([X_scaled_subsampled, cluster_features], axis=1)"
      ]
    },
    {
      "cell_type": "code",
      "source": [
        "combined_features.shape"
      ],
      "metadata": {
        "colab": {
          "base_uri": "https://localhost:8080/"
        },
        "id": "58Hel3WqzkiA",
        "outputId": "bcd6a2bb-8be8-4f48-9fa3-6ac2ee5ba8d8"
      },
      "execution_count": null,
      "outputs": [
        {
          "output_type": "execute_result",
          "data": {
            "text/plain": [
              "(30000, 1879)"
            ]
          },
          "metadata": {},
          "execution_count": 128
        }
      ]
    },
    {
      "cell_type": "code",
      "execution_count": null,
      "metadata": {
        "id": "UxyXNsK0k6x9"
      },
      "outputs": [],
      "source": [
        "#Combined Features into a DataFrame\n",
        "combined_features_df = pd.DataFrame(combined_features, columns=list(X_subsampled.columns) + ['Cluster_' + str(i) for i in range(cluster_features.shape[1])])"
      ]
    },
    {
      "cell_type": "code",
      "execution_count": null,
      "metadata": {
        "colab": {
          "base_uri": "https://localhost:8080/",
          "height": 461
        },
        "id": "WO3xRsBYlnNB",
        "outputId": "2469a703-589a-4639-916a-35b17276ffe2"
      },
      "outputs": [
        {
          "data": {
            "application/vnd.google.colaboratory.intrinsic+json": {
              "type": "dataframe",
              "variable_name": "combined_features_df"
            },
            "text/html": [
              "\n",
              "  <div id=\"df-4a2cf3d0-4ff6-4440-8a82-f08855cce6a7\" class=\"colab-df-container\">\n",
              "    <div>\n",
              "<style scoped>\n",
              "    .dataframe tbody tr th:only-of-type {\n",
              "        vertical-align: middle;\n",
              "    }\n",
              "\n",
              "    .dataframe tbody tr th {\n",
              "        vertical-align: top;\n",
              "    }\n",
              "\n",
              "    .dataframe thead th {\n",
              "        text-align: right;\n",
              "    }\n",
              "</style>\n",
              "<table border=\"1\" class=\"dataframe\">\n",
              "  <thead>\n",
              "    <tr style=\"text-align: right;\">\n",
              "      <th></th>\n",
              "      <th># FP1-F7</th>\n",
              "      <th>C3-P3</th>\n",
              "      <th>C4-P4</th>\n",
              "      <th>CZ-PZ</th>\n",
              "      <th>F3-C3</th>\n",
              "      <th>F4-C4</th>\n",
              "      <th>F7-T7</th>\n",
              "      <th>F8-T8</th>\n",
              "      <th>FP1-F3</th>\n",
              "      <th>FP2-F4</th>\n",
              "      <th>...</th>\n",
              "      <th>Cluster_1846</th>\n",
              "      <th>Cluster_1847</th>\n",
              "      <th>Cluster_1848</th>\n",
              "      <th>Cluster_1849</th>\n",
              "      <th>Cluster_1850</th>\n",
              "      <th>Cluster_1851</th>\n",
              "      <th>Cluster_1852</th>\n",
              "      <th>Cluster_1853</th>\n",
              "      <th>Cluster_1854</th>\n",
              "      <th>Cluster_1855</th>\n",
              "    </tr>\n",
              "  </thead>\n",
              "  <tbody>\n",
              "    <tr>\n",
              "      <th>0</th>\n",
              "      <td>-0.144196</td>\n",
              "      <td>0.560701</td>\n",
              "      <td>0.491608</td>\n",
              "      <td>0.530722</td>\n",
              "      <td>0.872631</td>\n",
              "      <td>1.164926</td>\n",
              "      <td>-0.028876</td>\n",
              "      <td>1.182934</td>\n",
              "      <td>-0.138044</td>\n",
              "      <td>0.277031</td>\n",
              "      <td>...</td>\n",
              "      <td>0.0</td>\n",
              "      <td>0.0</td>\n",
              "      <td>0.0</td>\n",
              "      <td>0.0</td>\n",
              "      <td>0.0</td>\n",
              "      <td>0.0</td>\n",
              "      <td>0.0</td>\n",
              "      <td>0.0</td>\n",
              "      <td>0.0</td>\n",
              "      <td>0.0</td>\n",
              "    </tr>\n",
              "    <tr>\n",
              "      <th>1</th>\n",
              "      <td>0.117949</td>\n",
              "      <td>0.208521</td>\n",
              "      <td>-0.405855</td>\n",
              "      <td>-0.146489</td>\n",
              "      <td>-0.585612</td>\n",
              "      <td>-0.360034</td>\n",
              "      <td>-0.117964</td>\n",
              "      <td>-0.693223</td>\n",
              "      <td>0.917049</td>\n",
              "      <td>0.294170</td>\n",
              "      <td>...</td>\n",
              "      <td>0.0</td>\n",
              "      <td>0.0</td>\n",
              "      <td>0.0</td>\n",
              "      <td>0.0</td>\n",
              "      <td>0.0</td>\n",
              "      <td>0.0</td>\n",
              "      <td>0.0</td>\n",
              "      <td>0.0</td>\n",
              "      <td>0.0</td>\n",
              "      <td>0.0</td>\n",
              "    </tr>\n",
              "    <tr>\n",
              "      <th>2</th>\n",
              "      <td>0.042708</td>\n",
              "      <td>0.064047</td>\n",
              "      <td>-0.285228</td>\n",
              "      <td>0.026043</td>\n",
              "      <td>0.177563</td>\n",
              "      <td>0.235178</td>\n",
              "      <td>0.342964</td>\n",
              "      <td>0.159642</td>\n",
              "      <td>0.376342</td>\n",
              "      <td>0.341118</td>\n",
              "      <td>...</td>\n",
              "      <td>0.0</td>\n",
              "      <td>0.0</td>\n",
              "      <td>0.0</td>\n",
              "      <td>0.0</td>\n",
              "      <td>0.0</td>\n",
              "      <td>0.0</td>\n",
              "      <td>0.0</td>\n",
              "      <td>0.0</td>\n",
              "      <td>0.0</td>\n",
              "      <td>0.0</td>\n",
              "    </tr>\n",
              "    <tr>\n",
              "      <th>3</th>\n",
              "      <td>-0.471297</td>\n",
              "      <td>-0.140658</td>\n",
              "      <td>-1.068724</td>\n",
              "      <td>-0.917649</td>\n",
              "      <td>0.339356</td>\n",
              "      <td>0.613874</td>\n",
              "      <td>0.118768</td>\n",
              "      <td>0.024121</td>\n",
              "      <td>0.574125</td>\n",
              "      <td>0.552754</td>\n",
              "      <td>...</td>\n",
              "      <td>0.0</td>\n",
              "      <td>0.0</td>\n",
              "      <td>0.0</td>\n",
              "      <td>0.0</td>\n",
              "      <td>0.0</td>\n",
              "      <td>0.0</td>\n",
              "      <td>0.0</td>\n",
              "      <td>0.0</td>\n",
              "      <td>0.0</td>\n",
              "      <td>0.0</td>\n",
              "    </tr>\n",
              "    <tr>\n",
              "      <th>4</th>\n",
              "      <td>-0.301947</td>\n",
              "      <td>-0.158667</td>\n",
              "      <td>-0.194517</td>\n",
              "      <td>-0.130831</td>\n",
              "      <td>-0.114733</td>\n",
              "      <td>-0.179741</td>\n",
              "      <td>0.008588</td>\n",
              "      <td>-0.349519</td>\n",
              "      <td>-0.070211</td>\n",
              "      <td>0.044156</td>\n",
              "      <td>...</td>\n",
              "      <td>0.0</td>\n",
              "      <td>0.0</td>\n",
              "      <td>0.0</td>\n",
              "      <td>0.0</td>\n",
              "      <td>0.0</td>\n",
              "      <td>0.0</td>\n",
              "      <td>0.0</td>\n",
              "      <td>0.0</td>\n",
              "      <td>0.0</td>\n",
              "      <td>0.0</td>\n",
              "    </tr>\n",
              "    <tr>\n",
              "      <th>...</th>\n",
              "      <td>...</td>\n",
              "      <td>...</td>\n",
              "      <td>...</td>\n",
              "      <td>...</td>\n",
              "      <td>...</td>\n",
              "      <td>...</td>\n",
              "      <td>...</td>\n",
              "      <td>...</td>\n",
              "      <td>...</td>\n",
              "      <td>...</td>\n",
              "      <td>...</td>\n",
              "      <td>...</td>\n",
              "      <td>...</td>\n",
              "      <td>...</td>\n",
              "      <td>...</td>\n",
              "      <td>...</td>\n",
              "      <td>...</td>\n",
              "      <td>...</td>\n",
              "      <td>...</td>\n",
              "      <td>...</td>\n",
              "      <td>...</td>\n",
              "    </tr>\n",
              "    <tr>\n",
              "      <th>29995</th>\n",
              "      <td>-0.346798</td>\n",
              "      <td>-0.018095</td>\n",
              "      <td>0.321766</td>\n",
              "      <td>-0.130831</td>\n",
              "      <td>0.049655</td>\n",
              "      <td>-0.083092</td>\n",
              "      <td>-0.014495</td>\n",
              "      <td>0.739590</td>\n",
              "      <td>-0.249344</td>\n",
              "      <td>-0.270690</td>\n",
              "      <td>...</td>\n",
              "      <td>0.0</td>\n",
              "      <td>0.0</td>\n",
              "      <td>0.0</td>\n",
              "      <td>0.0</td>\n",
              "      <td>0.0</td>\n",
              "      <td>0.0</td>\n",
              "      <td>0.0</td>\n",
              "      <td>0.0</td>\n",
              "      <td>0.0</td>\n",
              "      <td>0.0</td>\n",
              "    </tr>\n",
              "    <tr>\n",
              "      <th>29996</th>\n",
              "      <td>0.275700</td>\n",
              "      <td>-0.162669</td>\n",
              "      <td>-0.401995</td>\n",
              "      <td>-0.337322</td>\n",
              "      <td>0.160010</td>\n",
              "      <td>0.270578</td>\n",
              "      <td>-0.014495</td>\n",
              "      <td>0.569870</td>\n",
              "      <td>0.050263</td>\n",
              "      <td>0.035363</td>\n",
              "      <td>...</td>\n",
              "      <td>0.0</td>\n",
              "      <td>0.0</td>\n",
              "      <td>0.0</td>\n",
              "      <td>0.0</td>\n",
              "      <td>0.0</td>\n",
              "      <td>0.0</td>\n",
              "      <td>0.0</td>\n",
              "      <td>0.0</td>\n",
              "      <td>0.0</td>\n",
              "      <td>0.0</td>\n",
              "    </tr>\n",
              "    <tr>\n",
              "      <th>29997</th>\n",
              "      <td>-1.528384</td>\n",
              "      <td>0.611727</td>\n",
              "      <td>0.849629</td>\n",
              "      <td>0.354569</td>\n",
              "      <td>-0.436029</td>\n",
              "      <td>-0.446475</td>\n",
              "      <td>-1.982547</td>\n",
              "      <td>-1.279653</td>\n",
              "      <td>-0.945848</td>\n",
              "      <td>-0.413023</td>\n",
              "      <td>...</td>\n",
              "      <td>0.0</td>\n",
              "      <td>0.0</td>\n",
              "      <td>0.0</td>\n",
              "      <td>0.0</td>\n",
              "      <td>0.0</td>\n",
              "      <td>0.0</td>\n",
              "      <td>0.0</td>\n",
              "      <td>0.0</td>\n",
              "      <td>0.0</td>\n",
              "      <td>0.0</td>\n",
              "    </tr>\n",
              "    <tr>\n",
              "      <th>29998</th>\n",
              "      <td>-0.259416</td>\n",
              "      <td>0.052241</td>\n",
              "      <td>0.053974</td>\n",
              "      <td>0.003104</td>\n",
              "      <td>0.076824</td>\n",
              "      <td>0.235178</td>\n",
              "      <td>-0.028876</td>\n",
              "      <td>-0.213060</td>\n",
              "      <td>-0.210991</td>\n",
              "      <td>-0.182757</td>\n",
              "      <td>...</td>\n",
              "      <td>0.0</td>\n",
              "      <td>0.0</td>\n",
              "      <td>0.0</td>\n",
              "      <td>0.0</td>\n",
              "      <td>0.0</td>\n",
              "      <td>0.0</td>\n",
              "      <td>0.0</td>\n",
              "      <td>0.0</td>\n",
              "      <td>0.0</td>\n",
              "      <td>0.0</td>\n",
              "    </tr>\n",
              "    <tr>\n",
              "      <th>29999</th>\n",
              "      <td>0.172852</td>\n",
              "      <td>0.251543</td>\n",
              "      <td>0.193419</td>\n",
              "      <td>0.221475</td>\n",
              "      <td>-0.054748</td>\n",
              "      <td>0.245057</td>\n",
              "      <td>-0.270624</td>\n",
              "      <td>0.033247</td>\n",
              "      <td>-0.040807</td>\n",
              "      <td>-0.339994</td>\n",
              "      <td>...</td>\n",
              "      <td>0.0</td>\n",
              "      <td>0.0</td>\n",
              "      <td>0.0</td>\n",
              "      <td>0.0</td>\n",
              "      <td>0.0</td>\n",
              "      <td>0.0</td>\n",
              "      <td>0.0</td>\n",
              "      <td>0.0</td>\n",
              "      <td>0.0</td>\n",
              "      <td>0.0</td>\n",
              "    </tr>\n",
              "  </tbody>\n",
              "</table>\n",
              "<p>30000 rows × 1879 columns</p>\n",
              "</div>\n",
              "    <div class=\"colab-df-buttons\">\n",
              "\n",
              "  <div class=\"colab-df-container\">\n",
              "    <button class=\"colab-df-convert\" onclick=\"convertToInteractive('df-4a2cf3d0-4ff6-4440-8a82-f08855cce6a7')\"\n",
              "            title=\"Convert this dataframe to an interactive table.\"\n",
              "            style=\"display:none;\">\n",
              "\n",
              "  <svg xmlns=\"http://www.w3.org/2000/svg\" height=\"24px\" viewBox=\"0 -960 960 960\">\n",
              "    <path d=\"M120-120v-720h720v720H120Zm60-500h600v-160H180v160Zm220 220h160v-160H400v160Zm0 220h160v-160H400v160ZM180-400h160v-160H180v160Zm440 0h160v-160H620v160ZM180-180h160v-160H180v160Zm440 0h160v-160H620v160Z\"/>\n",
              "  </svg>\n",
              "    </button>\n",
              "\n",
              "  <style>\n",
              "    .colab-df-container {\n",
              "      display:flex;\n",
              "      gap: 12px;\n",
              "    }\n",
              "\n",
              "    .colab-df-convert {\n",
              "      background-color: #E8F0FE;\n",
              "      border: none;\n",
              "      border-radius: 50%;\n",
              "      cursor: pointer;\n",
              "      display: none;\n",
              "      fill: #1967D2;\n",
              "      height: 32px;\n",
              "      padding: 0 0 0 0;\n",
              "      width: 32px;\n",
              "    }\n",
              "\n",
              "    .colab-df-convert:hover {\n",
              "      background-color: #E2EBFA;\n",
              "      box-shadow: 0px 1px 2px rgba(60, 64, 67, 0.3), 0px 1px 3px 1px rgba(60, 64, 67, 0.15);\n",
              "      fill: #174EA6;\n",
              "    }\n",
              "\n",
              "    .colab-df-buttons div {\n",
              "      margin-bottom: 4px;\n",
              "    }\n",
              "\n",
              "    [theme=dark] .colab-df-convert {\n",
              "      background-color: #3B4455;\n",
              "      fill: #D2E3FC;\n",
              "    }\n",
              "\n",
              "    [theme=dark] .colab-df-convert:hover {\n",
              "      background-color: #434B5C;\n",
              "      box-shadow: 0px 1px 3px 1px rgba(0, 0, 0, 0.15);\n",
              "      filter: drop-shadow(0px 1px 2px rgba(0, 0, 0, 0.3));\n",
              "      fill: #FFFFFF;\n",
              "    }\n",
              "  </style>\n",
              "\n",
              "    <script>\n",
              "      const buttonEl =\n",
              "        document.querySelector('#df-4a2cf3d0-4ff6-4440-8a82-f08855cce6a7 button.colab-df-convert');\n",
              "      buttonEl.style.display =\n",
              "        google.colab.kernel.accessAllowed ? 'block' : 'none';\n",
              "\n",
              "      async function convertToInteractive(key) {\n",
              "        const element = document.querySelector('#df-4a2cf3d0-4ff6-4440-8a82-f08855cce6a7');\n",
              "        const dataTable =\n",
              "          await google.colab.kernel.invokeFunction('convertToInteractive',\n",
              "                                                    [key], {});\n",
              "        if (!dataTable) return;\n",
              "\n",
              "        const docLinkHtml = 'Like what you see? Visit the ' +\n",
              "          '<a target=\"_blank\" href=https://colab.research.google.com/notebooks/data_table.ipynb>data table notebook</a>'\n",
              "          + ' to learn more about interactive tables.';\n",
              "        element.innerHTML = '';\n",
              "        dataTable['output_type'] = 'display_data';\n",
              "        await google.colab.output.renderOutput(dataTable, element);\n",
              "        const docLink = document.createElement('div');\n",
              "        docLink.innerHTML = docLinkHtml;\n",
              "        element.appendChild(docLink);\n",
              "      }\n",
              "    </script>\n",
              "  </div>\n",
              "\n",
              "\n",
              "<div id=\"df-8d2c1ba3-cd7a-4596-88c8-232b28646630\">\n",
              "  <button class=\"colab-df-quickchart\" onclick=\"quickchart('df-8d2c1ba3-cd7a-4596-88c8-232b28646630')\"\n",
              "            title=\"Suggest charts\"\n",
              "            style=\"display:none;\">\n",
              "\n",
              "<svg xmlns=\"http://www.w3.org/2000/svg\" height=\"24px\"viewBox=\"0 0 24 24\"\n",
              "     width=\"24px\">\n",
              "    <g>\n",
              "        <path d=\"M19 3H5c-1.1 0-2 .9-2 2v14c0 1.1.9 2 2 2h14c1.1 0 2-.9 2-2V5c0-1.1-.9-2-2-2zM9 17H7v-7h2v7zm4 0h-2V7h2v10zm4 0h-2v-4h2v4z\"/>\n",
              "    </g>\n",
              "</svg>\n",
              "  </button>\n",
              "\n",
              "<style>\n",
              "  .colab-df-quickchart {\n",
              "      --bg-color: #E8F0FE;\n",
              "      --fill-color: #1967D2;\n",
              "      --hover-bg-color: #E2EBFA;\n",
              "      --hover-fill-color: #174EA6;\n",
              "      --disabled-fill-color: #AAA;\n",
              "      --disabled-bg-color: #DDD;\n",
              "  }\n",
              "\n",
              "  [theme=dark] .colab-df-quickchart {\n",
              "      --bg-color: #3B4455;\n",
              "      --fill-color: #D2E3FC;\n",
              "      --hover-bg-color: #434B5C;\n",
              "      --hover-fill-color: #FFFFFF;\n",
              "      --disabled-bg-color: #3B4455;\n",
              "      --disabled-fill-color: #666;\n",
              "  }\n",
              "\n",
              "  .colab-df-quickchart {\n",
              "    background-color: var(--bg-color);\n",
              "    border: none;\n",
              "    border-radius: 50%;\n",
              "    cursor: pointer;\n",
              "    display: none;\n",
              "    fill: var(--fill-color);\n",
              "    height: 32px;\n",
              "    padding: 0;\n",
              "    width: 32px;\n",
              "  }\n",
              "\n",
              "  .colab-df-quickchart:hover {\n",
              "    background-color: var(--hover-bg-color);\n",
              "    box-shadow: 0 1px 2px rgba(60, 64, 67, 0.3), 0 1px 3px 1px rgba(60, 64, 67, 0.15);\n",
              "    fill: var(--button-hover-fill-color);\n",
              "  }\n",
              "\n",
              "  .colab-df-quickchart-complete:disabled,\n",
              "  .colab-df-quickchart-complete:disabled:hover {\n",
              "    background-color: var(--disabled-bg-color);\n",
              "    fill: var(--disabled-fill-color);\n",
              "    box-shadow: none;\n",
              "  }\n",
              "\n",
              "  .colab-df-spinner {\n",
              "    border: 2px solid var(--fill-color);\n",
              "    border-color: transparent;\n",
              "    border-bottom-color: var(--fill-color);\n",
              "    animation:\n",
              "      spin 1s steps(1) infinite;\n",
              "  }\n",
              "\n",
              "  @keyframes spin {\n",
              "    0% {\n",
              "      border-color: transparent;\n",
              "      border-bottom-color: var(--fill-color);\n",
              "      border-left-color: var(--fill-color);\n",
              "    }\n",
              "    20% {\n",
              "      border-color: transparent;\n",
              "      border-left-color: var(--fill-color);\n",
              "      border-top-color: var(--fill-color);\n",
              "    }\n",
              "    30% {\n",
              "      border-color: transparent;\n",
              "      border-left-color: var(--fill-color);\n",
              "      border-top-color: var(--fill-color);\n",
              "      border-right-color: var(--fill-color);\n",
              "    }\n",
              "    40% {\n",
              "      border-color: transparent;\n",
              "      border-right-color: var(--fill-color);\n",
              "      border-top-color: var(--fill-color);\n",
              "    }\n",
              "    60% {\n",
              "      border-color: transparent;\n",
              "      border-right-color: var(--fill-color);\n",
              "    }\n",
              "    80% {\n",
              "      border-color: transparent;\n",
              "      border-right-color: var(--fill-color);\n",
              "      border-bottom-color: var(--fill-color);\n",
              "    }\n",
              "    90% {\n",
              "      border-color: transparent;\n",
              "      border-bottom-color: var(--fill-color);\n",
              "    }\n",
              "  }\n",
              "</style>\n",
              "\n",
              "  <script>\n",
              "    async function quickchart(key) {\n",
              "      const quickchartButtonEl =\n",
              "        document.querySelector('#' + key + ' button');\n",
              "      quickchartButtonEl.disabled = true;  // To prevent multiple clicks.\n",
              "      quickchartButtonEl.classList.add('colab-df-spinner');\n",
              "      try {\n",
              "        const charts = await google.colab.kernel.invokeFunction(\n",
              "            'suggestCharts', [key], {});\n",
              "      } catch (error) {\n",
              "        console.error('Error during call to suggestCharts:', error);\n",
              "      }\n",
              "      quickchartButtonEl.classList.remove('colab-df-spinner');\n",
              "      quickchartButtonEl.classList.add('colab-df-quickchart-complete');\n",
              "    }\n",
              "    (() => {\n",
              "      let quickchartButtonEl =\n",
              "        document.querySelector('#df-8d2c1ba3-cd7a-4596-88c8-232b28646630 button');\n",
              "      quickchartButtonEl.style.display =\n",
              "        google.colab.kernel.accessAllowed ? 'block' : 'none';\n",
              "    })();\n",
              "  </script>\n",
              "</div>\n",
              "\n",
              "  <div id=\"id_9fddd26b-4ffe-49f3-9e86-c9272ca28efa\">\n",
              "    <style>\n",
              "      .colab-df-generate {\n",
              "        background-color: #E8F0FE;\n",
              "        border: none;\n",
              "        border-radius: 50%;\n",
              "        cursor: pointer;\n",
              "        display: none;\n",
              "        fill: #1967D2;\n",
              "        height: 32px;\n",
              "        padding: 0 0 0 0;\n",
              "        width: 32px;\n",
              "      }\n",
              "\n",
              "      .colab-df-generate:hover {\n",
              "        background-color: #E2EBFA;\n",
              "        box-shadow: 0px 1px 2px rgba(60, 64, 67, 0.3), 0px 1px 3px 1px rgba(60, 64, 67, 0.15);\n",
              "        fill: #174EA6;\n",
              "      }\n",
              "\n",
              "      [theme=dark] .colab-df-generate {\n",
              "        background-color: #3B4455;\n",
              "        fill: #D2E3FC;\n",
              "      }\n",
              "\n",
              "      [theme=dark] .colab-df-generate:hover {\n",
              "        background-color: #434B5C;\n",
              "        box-shadow: 0px 1px 3px 1px rgba(0, 0, 0, 0.15);\n",
              "        filter: drop-shadow(0px 1px 2px rgba(0, 0, 0, 0.3));\n",
              "        fill: #FFFFFF;\n",
              "      }\n",
              "    </style>\n",
              "    <button class=\"colab-df-generate\" onclick=\"generateWithVariable('combined_features_df')\"\n",
              "            title=\"Generate code using this dataframe.\"\n",
              "            style=\"display:none;\">\n",
              "\n",
              "  <svg xmlns=\"http://www.w3.org/2000/svg\" height=\"24px\"viewBox=\"0 0 24 24\"\n",
              "       width=\"24px\">\n",
              "    <path d=\"M7,19H8.4L18.45,9,17,7.55,7,17.6ZM5,21V16.75L18.45,3.32a2,2,0,0,1,2.83,0l1.4,1.43a1.91,1.91,0,0,1,.58,1.4,1.91,1.91,0,0,1-.58,1.4L9.25,21ZM18.45,9,17,7.55Zm-12,3A5.31,5.31,0,0,0,4.9,8.1,5.31,5.31,0,0,0,1,6.5,5.31,5.31,0,0,0,4.9,4.9,5.31,5.31,0,0,0,6.5,1,5.31,5.31,0,0,0,8.1,4.9,5.31,5.31,0,0,0,12,6.5,5.46,5.46,0,0,0,6.5,12Z\"/>\n",
              "  </svg>\n",
              "    </button>\n",
              "    <script>\n",
              "      (() => {\n",
              "      const buttonEl =\n",
              "        document.querySelector('#id_9fddd26b-4ffe-49f3-9e86-c9272ca28efa button.colab-df-generate');\n",
              "      buttonEl.style.display =\n",
              "        google.colab.kernel.accessAllowed ? 'block' : 'none';\n",
              "\n",
              "      buttonEl.onclick = () => {\n",
              "        google.colab.notebook.generateWithVariable('combined_features_df');\n",
              "      }\n",
              "      })();\n",
              "    </script>\n",
              "  </div>\n",
              "\n",
              "    </div>\n",
              "  </div>\n"
            ],
            "text/plain": [
              "       # FP1-F7     C3-P3     C4-P4     CZ-PZ     F3-C3     F4-C4     F7-T7  \\\n",
              "0     -0.144196  0.560701  0.491608  0.530722  0.872631  1.164926 -0.028876   \n",
              "1      0.117949  0.208521 -0.405855 -0.146489 -0.585612 -0.360034 -0.117964   \n",
              "2      0.042708  0.064047 -0.285228  0.026043  0.177563  0.235178  0.342964   \n",
              "3     -0.471297 -0.140658 -1.068724 -0.917649  0.339356  0.613874  0.118768   \n",
              "4     -0.301947 -0.158667 -0.194517 -0.130831 -0.114733 -0.179741  0.008588   \n",
              "...         ...       ...       ...       ...       ...       ...       ...   \n",
              "29995 -0.346798 -0.018095  0.321766 -0.130831  0.049655 -0.083092 -0.014495   \n",
              "29996  0.275700 -0.162669 -0.401995 -0.337322  0.160010  0.270578 -0.014495   \n",
              "29997 -1.528384  0.611727  0.849629  0.354569 -0.436029 -0.446475 -1.982547   \n",
              "29998 -0.259416  0.052241  0.053974  0.003104  0.076824  0.235178 -0.028876   \n",
              "29999  0.172852  0.251543  0.193419  0.221475 -0.054748  0.245057 -0.270624   \n",
              "\n",
              "          F8-T8    FP1-F3    FP2-F4  ...  Cluster_1846  Cluster_1847  \\\n",
              "0      1.182934 -0.138044  0.277031  ...           0.0           0.0   \n",
              "1     -0.693223  0.917049  0.294170  ...           0.0           0.0   \n",
              "2      0.159642  0.376342  0.341118  ...           0.0           0.0   \n",
              "3      0.024121  0.574125  0.552754  ...           0.0           0.0   \n",
              "4     -0.349519 -0.070211  0.044156  ...           0.0           0.0   \n",
              "...         ...       ...       ...  ...           ...           ...   \n",
              "29995  0.739590 -0.249344 -0.270690  ...           0.0           0.0   \n",
              "29996  0.569870  0.050263  0.035363  ...           0.0           0.0   \n",
              "29997 -1.279653 -0.945848 -0.413023  ...           0.0           0.0   \n",
              "29998 -0.213060 -0.210991 -0.182757  ...           0.0           0.0   \n",
              "29999  0.033247 -0.040807 -0.339994  ...           0.0           0.0   \n",
              "\n",
              "       Cluster_1848  Cluster_1849  Cluster_1850  Cluster_1851  Cluster_1852  \\\n",
              "0               0.0           0.0           0.0           0.0           0.0   \n",
              "1               0.0           0.0           0.0           0.0           0.0   \n",
              "2               0.0           0.0           0.0           0.0           0.0   \n",
              "3               0.0           0.0           0.0           0.0           0.0   \n",
              "4               0.0           0.0           0.0           0.0           0.0   \n",
              "...             ...           ...           ...           ...           ...   \n",
              "29995           0.0           0.0           0.0           0.0           0.0   \n",
              "29996           0.0           0.0           0.0           0.0           0.0   \n",
              "29997           0.0           0.0           0.0           0.0           0.0   \n",
              "29998           0.0           0.0           0.0           0.0           0.0   \n",
              "29999           0.0           0.0           0.0           0.0           0.0   \n",
              "\n",
              "       Cluster_1853  Cluster_1854  Cluster_1855  \n",
              "0               0.0           0.0           0.0  \n",
              "1               0.0           0.0           0.0  \n",
              "2               0.0           0.0           0.0  \n",
              "3               0.0           0.0           0.0  \n",
              "4               0.0           0.0           0.0  \n",
              "...             ...           ...           ...  \n",
              "29995           0.0           0.0           0.0  \n",
              "29996           0.0           0.0           0.0  \n",
              "29997           0.0           0.0           0.0  \n",
              "29998           0.0           0.0           0.0  \n",
              "29999           0.0           0.0           0.0  \n",
              "\n",
              "[30000 rows x 1879 columns]"
            ]
          },
          "execution_count": 9,
          "metadata": {},
          "output_type": "execute_result"
        }
      ],
      "source": [
        "combined_features_df"
      ]
    },
    {
      "cell_type": "code",
      "execution_count": null,
      "metadata": {
        "id": "yt5ceC2hl98X"
      },
      "outputs": [],
      "source": [
        "#Save DataFrame\n",
        "combined_features_df.to_csv(\"\", index=False)"
      ]
    },
    {
      "cell_type": "markdown",
      "metadata": {
        "id": "dQmbSMfhAvnc"
      },
      "source": [
        "#CNN"
      ]
    },
    {
      "cell_type": "code",
      "execution_count": null,
      "metadata": {
        "id": "d2ci3vUnEleL"
      },
      "outputs": [],
      "source": [
        "#Defining CNN Model\n",
        "cnn_model = Sequential([\n",
        "    Conv1D(32, kernel_size=3, activation='relu', input_shape=(combined_features.shape[1], 1)),\n",
        "    MaxPooling1D(pool_size=2),\n",
        "    Conv1D(32, kernel_size=3, activation='relu'),\n",
        "    MaxPooling1D(pool_size=2),\n",
        "    Flatten(),\n",
        "    Dense(512, activation='relu'),\n",
        "    Dropout(0.3),\n",
        "    Dense(1, activation='sigmoid')\n",
        "])\n",
        "\n",
        "cnn_model.compile(optimizer=Adam(), loss='binary_crossentropy', metrics=['accuracy'])"
      ]
    },
    {
      "cell_type": "code",
      "execution_count": null,
      "metadata": {
        "colab": {
          "base_uri": "https://localhost:8080/"
        },
        "id": "aPXF29MwOYWp",
        "outputId": "c14a9b45-2bb0-4ebe-8655-875959a93c65"
      },
      "outputs": [
        {
          "name": "stdout",
          "output_type": "stream",
          "text": [
            "Model: \"sequential_27\"\n",
            "_________________________________________________________________\n",
            " Layer (type)                Output Shape              Param #   \n",
            "=================================================================\n",
            " conv1d_58 (Conv1D)          (None, 1877, 32)          128       \n",
            "                                                                 \n",
            " max_pooling1d_58 (MaxPooli  (None, 938, 32)           0         \n",
            " ng1D)                                                           \n",
            "                                                                 \n",
            " conv1d_59 (Conv1D)          (None, 936, 32)           3104      \n",
            "                                                                 \n",
            " max_pooling1d_59 (MaxPooli  (None, 468, 32)           0         \n",
            " ng1D)                                                           \n",
            "                                                                 \n",
            " flatten_27 (Flatten)        (None, 14976)             0         \n",
            "                                                                 \n",
            " dense_86 (Dense)            (None, 512)               7668224   \n",
            "                                                                 \n",
            " dropout_28 (Dropout)        (None, 512)               0         \n",
            "                                                                 \n",
            " dense_87 (Dense)            (None, 1)                 513       \n",
            "                                                                 \n",
            "=================================================================\n",
            "Total params: 7671969 (29.27 MB)\n",
            "Trainable params: 7671969 (29.27 MB)\n",
            "Non-trainable params: 0 (0.00 Byte)\n",
            "_________________________________________________________________\n"
          ]
        }
      ],
      "source": [
        "#Model Summary\n",
        "cnn_model.summary()"
      ]
    },
    {
      "cell_type": "code",
      "execution_count": null,
      "metadata": {
        "colab": {
          "base_uri": "https://localhost:8080/"
        },
        "id": "MEEISkP4EotJ",
        "outputId": "d1b4efef-6d74-46d5-bd5d-6c37b0389adc"
      },
      "outputs": [
        {
          "name": "stdout",
          "output_type": "stream",
          "text": [
            "Epoch 1/30\n",
            "1500/1500 [==============================] - 10s 6ms/step - loss: 0.4370 - accuracy: 0.7937 - val_loss: 0.4115 - val_accuracy: 0.8067\n",
            "Epoch 2/30\n",
            "1500/1500 [==============================] - 8s 6ms/step - loss: 0.4080 - accuracy: 0.8121 - val_loss: 0.3976 - val_accuracy: 0.8168\n",
            "Epoch 3/30\n",
            "1500/1500 [==============================] - 9s 6ms/step - loss: 0.3939 - accuracy: 0.8189 - val_loss: 0.3967 - val_accuracy: 0.8185\n",
            "Epoch 4/30\n",
            "1500/1500 [==============================] - 9s 6ms/step - loss: 0.3834 - accuracy: 0.8247 - val_loss: 0.3940 - val_accuracy: 0.8202\n",
            "Epoch 5/30\n",
            "1500/1500 [==============================] - 9s 6ms/step - loss: 0.3731 - accuracy: 0.8296 - val_loss: 0.4062 - val_accuracy: 0.8193\n",
            "Epoch 6/30\n",
            "1500/1500 [==============================] - 9s 6ms/step - loss: 0.3660 - accuracy: 0.8355 - val_loss: 0.3882 - val_accuracy: 0.8252\n",
            "Epoch 7/30\n",
            "1500/1500 [==============================] - 10s 7ms/step - loss: 0.3569 - accuracy: 0.8401 - val_loss: 0.3920 - val_accuracy: 0.8227\n",
            "Epoch 8/30\n",
            "1500/1500 [==============================] - 9s 6ms/step - loss: 0.3467 - accuracy: 0.8457 - val_loss: 0.3912 - val_accuracy: 0.8243\n",
            "Epoch 9/30\n",
            "1500/1500 [==============================] - 9s 6ms/step - loss: 0.3365 - accuracy: 0.8516 - val_loss: 0.3994 - val_accuracy: 0.8263\n",
            "Epoch 10/30\n",
            "1500/1500 [==============================] - 9s 6ms/step - loss: 0.3242 - accuracy: 0.8569 - val_loss: 0.4037 - val_accuracy: 0.8223\n",
            "Epoch 11/30\n",
            "1500/1500 [==============================] - 9s 6ms/step - loss: 0.3132 - accuracy: 0.8633 - val_loss: 0.4082 - val_accuracy: 0.8257\n",
            "Epoch 12/30\n",
            "1500/1500 [==============================] - 9s 6ms/step - loss: 0.2967 - accuracy: 0.8711 - val_loss: 0.4156 - val_accuracy: 0.8290\n",
            "Epoch 13/30\n",
            "1500/1500 [==============================] - 9s 6ms/step - loss: 0.2849 - accuracy: 0.8785 - val_loss: 0.4230 - val_accuracy: 0.8262\n",
            "Epoch 14/30\n",
            "1500/1500 [==============================] - 9s 6ms/step - loss: 0.2707 - accuracy: 0.8861 - val_loss: 0.4409 - val_accuracy: 0.8278\n",
            "Epoch 15/30\n",
            "1500/1500 [==============================] - 9s 6ms/step - loss: 0.2535 - accuracy: 0.8958 - val_loss: 0.4506 - val_accuracy: 0.8258\n",
            "Epoch 16/30\n",
            "1500/1500 [==============================] - 9s 6ms/step - loss: 0.2411 - accuracy: 0.9028 - val_loss: 0.4767 - val_accuracy: 0.8242\n",
            "Epoch 17/30\n",
            "1500/1500 [==============================] - 9s 6ms/step - loss: 0.2238 - accuracy: 0.9104 - val_loss: 0.4940 - val_accuracy: 0.8250\n",
            "Epoch 18/30\n",
            "1500/1500 [==============================] - 9s 6ms/step - loss: 0.2155 - accuracy: 0.9120 - val_loss: 0.4766 - val_accuracy: 0.8155\n",
            "Epoch 19/30\n",
            "1500/1500 [==============================] - 8s 6ms/step - loss: 0.1980 - accuracy: 0.9234 - val_loss: 0.5252 - val_accuracy: 0.8188\n",
            "Epoch 20/30\n",
            "1500/1500 [==============================] - 9s 6ms/step - loss: 0.1865 - accuracy: 0.9251 - val_loss: 0.5867 - val_accuracy: 0.8168\n",
            "Epoch 21/30\n",
            "1500/1500 [==============================] - 9s 6ms/step - loss: 0.1706 - accuracy: 0.9366 - val_loss: 0.5678 - val_accuracy: 0.8235\n",
            "Epoch 22/30\n",
            "1500/1500 [==============================] - 9s 6ms/step - loss: 0.1572 - accuracy: 0.9409 - val_loss: 0.5991 - val_accuracy: 0.8248\n",
            "Epoch 23/30\n",
            "1500/1500 [==============================] - 9s 6ms/step - loss: 0.1553 - accuracy: 0.9413 - val_loss: 0.6104 - val_accuracy: 0.8208\n",
            "Epoch 24/30\n",
            "1500/1500 [==============================] - 9s 6ms/step - loss: 0.1368 - accuracy: 0.9490 - val_loss: 0.6551 - val_accuracy: 0.8217\n",
            "Epoch 25/30\n",
            "1500/1500 [==============================] - 9s 6ms/step - loss: 0.1265 - accuracy: 0.9543 - val_loss: 0.6898 - val_accuracy: 0.8213\n",
            "Epoch 26/30\n",
            "1500/1500 [==============================] - 9s 6ms/step - loss: 0.1292 - accuracy: 0.9528 - val_loss: 0.6867 - val_accuracy: 0.8242\n",
            "Epoch 27/30\n",
            "1500/1500 [==============================] - 9s 6ms/step - loss: 0.1157 - accuracy: 0.9591 - val_loss: 0.7191 - val_accuracy: 0.8175\n",
            "Epoch 28/30\n",
            "1500/1500 [==============================] - 9s 6ms/step - loss: 0.1083 - accuracy: 0.9614 - val_loss: 0.7572 - val_accuracy: 0.8237\n",
            "Epoch 29/30\n",
            "1500/1500 [==============================] - 9s 6ms/step - loss: 0.1081 - accuracy: 0.9627 - val_loss: 0.7881 - val_accuracy: 0.8267\n",
            "Epoch 30/30\n",
            "1500/1500 [==============================] - 9s 6ms/step - loss: 0.1031 - accuracy: 0.9638 - val_loss: 0.7824 - val_accuracy: 0.8188\n"
          ]
        }
      ],
      "source": [
        "#Training the CNN Model\n",
        "cnn_hist = cnn_model.fit(combined_features.reshape(combined_features.shape[0], combined_features.shape[1], 1),\n",
        "                                                   subsample_data['Outcome'],\n",
        "                                                   epochs=30,\n",
        "                                                   batch_size=16,\n",
        "                                                   validation_split=0.2)"
      ]
    },
    {
      "cell_type": "code",
      "execution_count": null,
      "metadata": {
        "colab": {
          "base_uri": "https://localhost:8080/"
        },
        "id": "6ZHeOyAFEqhK",
        "outputId": "9165a42e-a808-4f1c-d753-3cd371c1995e"
      },
      "outputs": [
        {
          "output_type": "stream",
          "name": "stdout",
          "text": [
            "938/938 [==============================] - 3s 3ms/step\n"
          ]
        }
      ],
      "source": [
        "#Model Prediction\n",
        "cnn_predictions = (cnn_model.predict(combined_features.reshape(combined_features.shape[0], combined_features.shape[1], 1)) > 0.5).astype(\"int32\")"
      ]
    },
    {
      "cell_type": "markdown",
      "metadata": {
        "id": "czfyPwIvxdrX"
      },
      "source": [
        "###CNN Confusion Matrix"
      ]
    },
    {
      "cell_type": "code",
      "execution_count": null,
      "metadata": {
        "colab": {
          "base_uri": "https://localhost:8080/"
        },
        "id": "3qe8zAjrglOo",
        "outputId": "52709560-afa5-4281-b30d-d2a8f297fbd2"
      },
      "outputs": [
        {
          "data": {
            "text/plain": [
              "array([[14399,   583],\n",
              "       [  814, 14204]])"
            ]
          },
          "execution_count": 10,
          "metadata": {},
          "output_type": "execute_result"
        }
      ],
      "source": [
        "#CNN Confusion Matrix\n",
        "conf_matrix_CNN = confusion_matrix(subsample_data['Outcome'], cnn_predictions)\n",
        "\n",
        "conf_matrix_CNN"
      ]
    },
    {
      "cell_type": "code",
      "execution_count": null,
      "metadata": {
        "colab": {
          "base_uri": "https://localhost:8080/",
          "height": 487
        },
        "id": "elqvHBEWgnrH",
        "outputId": "8f018eb7-8fc5-4833-8596-cab905c9c699"
      },
      "outputs": [
        {
          "data": {
            "image/png": "[encoded data removed]",
            "text/plain": [
              "<Figure size 500x500 with 1 Axes>"
            ]
          },
          "metadata": {},
          "output_type": "display_data"
        }
      ],
      "source": [
        "#Confusion Matrix Plot\n",
        "plt.figure(figsize=(5,5))\n",
        "sns.heatmap(conf_matrix_CNN, annot=True, fmt='d', cmap='Blues', cbar=False)\n",
        "plt.xlabel('Predicted Label')\n",
        "plt.ylabel('True Label')\n",
        "plt.title('Confusion Matrix of CNN')\n",
        "plt.show()"
      ]
    },
    {
      "cell_type": "code",
      "execution_count": null,
      "metadata": {
        "id": "83e33xKlifY3"
      },
      "outputs": [],
      "source": [
        "#TP,TN,FP,FN CNN Confusion Matrix Values\n",
        "TP = conf_matrix_CNN[1, 1]\n",
        "TN = conf_matrix_CNN[0, 0]\n",
        "FP = conf_matrix_CNN[0, 1]\n",
        "FN = conf_matrix_CNN[1, 0]\n",
        "\n",
        "#Accuracy\n",
        "acc_CNN_Con = ((TP + TN) / (TP + TN + FP + FN)) * 100\n",
        "\n",
        "#Precision\n",
        "pre_CNN_Con = (TP / (TP + FP)) * 100\n",
        "\n",
        "#Sensitivity\n",
        "sens_CNN_Con  = (TP / (TP + FN)) * 100\n",
        "\n",
        "#F1 Score\n",
        "f1score_CNN_Con = 2 * (pre_CNN_Con * sens_CNN_Con) / (pre_CNN_Con + sens_CNN_Con)"
      ]
    },
    {
      "cell_type": "code",
      "execution_count": null,
      "metadata": {
        "colab": {
          "base_uri": "https://localhost:8080/"
        },
        "id": "bAJ_ZjY1iV01",
        "outputId": "239e0fc4-cb26-4818-e49a-90b51146e645"
      },
      "outputs": [
        {
          "name": "stdout",
          "output_type": "stream",
          "text": [
            "Confusion Matrix Metrics:\n",
            "==========================\n",
            "Metric                     Value\n",
            "--------------------  ----------\n",
            "True Positives (TP)   14204\n",
            "True Negatives (TN)   14399\n",
            "False Positives (FP)    583\n",
            "False Negatives (FN)    814\n",
            "Accuracy                 95.3433\n",
            "Precision                96.0573\n",
            "Sensitivity (Recall)     94.5798\n",
            "F1-score                 95.3129\n"
          ]
        }
      ],
      "source": [
        "data = [\n",
        "    [\"True Positives (TP)\", TP],\n",
        "    [\"True Negatives (TN)\", TN],\n",
        "    [\"False Positives (FP)\", FP],\n",
        "    [\"False Negatives (FN)\", FN],\n",
        "    [\"Accuracy\", acc_CNN_Con],\n",
        "    [\"Precision\", pre_CNN_Con],\n",
        "    [\"Sensitivity (Recall)\", sens_CNN_Con],\n",
        "     [\"F1-score\", f1score_CNN_Con]\n",
        "]\n",
        "\n",
        "#Tabulate the Data\n",
        "print(\"Confusion Matrix Metrics:\")\n",
        "print(\"==========================\")\n",
        "print(tabulate(data, headers=[\"Metric\", \"Value\"]))"
      ]
    },
    {
      "cell_type": "markdown",
      "metadata": {
        "id": "bWwX4gdDxjet"
      },
      "source": [
        "###CNN Graphs"
      ]
    },
    {
      "cell_type": "code",
      "execution_count": null,
      "metadata": {
        "id": "sQACIWvptKcK"
      },
      "outputs": [],
      "source": [
        "#Loss and Accuracy Extraction\n",
        "Cnn_train_loss = cnn_hist['loss']\n",
        "Cnn_train_acc = cnn_hist['accuracy']\n",
        "Cnn_val_loss = cnn_hist['val_loss']\n",
        "Cnn_val_acc = cnn_hist['val_accuracy']"
      ]
    },
    {
      "cell_type": "code",
      "execution_count": null,
      "metadata": {
        "colab": {
          "base_uri": "https://localhost:8080/",
          "height": 957
        },
        "id": "uDRWbgsGoCa9",
        "outputId": "1125ff2f-41fc-4a75-b7a4-604bbb246403"
      },
      "outputs": [
        {
          "output_type": "display_data",
          "data": {
            "text/plain": [
              "<Figure size 500x500 with 1 Axes>"
            ],
            "image/png": "[encoded data removed]"
          },
          "metadata": {}
        },
        {
          "output_type": "display_data",
          "data": {
            "text/plain": [
              "<Figure size 500x500 with 1 Axes>"
            ],
            "image/png": "[encoded data removed]"
          },
          "metadata": {}
        }
      ],
      "source": [
        "#Loss Plot\n",
        "plt.figure(figsize=(5,5))\n",
        "plt.plot(Cnn_train_loss, label='Train Loss', color='blue')\n",
        "plt.plot(Cnn_val_loss, label='Validation Loss', color='orange')\n",
        "plt.title('Training and Validation Loss')\n",
        "plt.xlabel('Epochs')\n",
        "plt.ylabel('Loss')\n",
        "plt.legend()\n",
        "plt.show()\n",
        "\n",
        "#Accuracy Plot\n",
        "plt.figure(figsize=(5,5))\n",
        "plt.plot(Cnn_train_acc, label='Train Accuracy', color='blue')\n",
        "plt.plot(Cnn_val_acc, label='Validation Accuracy', color='orange')\n",
        "plt.title('Training and Validation Accuracy')\n",
        "plt.xlabel('Epochs')\n",
        "plt.ylabel('Accuracy')\n",
        "plt.ylim([0, 1])\n",
        "plt.legend()\n",
        "plt.show()"
      ]
    },
    {
      "cell_type": "code",
      "source": [
        "#CNN Model\n",
        "cnn_model.save(\"\")"
      ],
      "metadata": {
        "id": "0uKAAIbndief"
      },
      "execution_count": null,
      "outputs": []
    },
    {
      "cell_type": "code",
      "execution_count": null,
      "metadata": {
        "id": "ssd_TwVWsou8"
      },
      "outputs": [],
      "source": [
        "#CNN training history\n",
        "with open(\"\", 'wb') as file:\n",
        "    pickle.dump(cnn_hist.history, file)"
      ]
    },
    {
      "cell_type": "markdown",
      "metadata": {
        "id": "UawqDejDBHgY"
      },
      "source": [
        "##CNN + SVM"
      ]
    },
    {
      "cell_type": "code",
      "execution_count": null,
      "metadata": {
        "colab": {
          "base_uri": "https://localhost:8080/"
        },
        "id": "0szhLv9DLeBe",
        "outputId": "b92d9861-8cab-474e-a3e9-c395c450e3f0"
      },
      "outputs": [
        {
          "name": "stdout",
          "output_type": "stream",
          "text": [
            "938/938 [==============================] - 34s 37ms/step\n"
          ]
        }
      ],
      "source": [
        "#Feature Extraction of CNN model\n",
        "cnn_features_with_clusters = cnn_model.predict(combined_features.reshape(combined_features.shape[0], combined_features.shape[1], 1))"
      ]
    },
    {
      "cell_type": "code",
      "execution_count": null,
      "metadata": {
        "id": "xOic00yPLf1z"
      },
      "outputs": [],
      "source": [
        "#SVM Classifier\n",
        "svm_classifier = SVC()\n",
        "svm_classifier.fit(cnn_features_with_clusters, subsample_data['Outcome'])\n",
        "\n",
        "#SVM Predicitions\n",
        "svm_predictions = svm_classifier.predict(cnn_features_with_clusters)"
      ]
    },
    {
      "cell_type": "markdown",
      "metadata": {
        "id": "Rzf65TxZxmYW"
      },
      "source": [
        "###CNN + SVM Confusion Matix"
      ]
    },
    {
      "cell_type": "code",
      "execution_count": null,
      "metadata": {
        "colab": {
          "base_uri": "https://localhost:8080/"
        },
        "id": "5yQ2leUplJI6",
        "outputId": "277b344a-374c-4e3f-ca5a-6021b699ab5a"
      },
      "outputs": [
        {
          "data": {
            "text/plain": [
              "array([[14385,   597],\n",
              "       [  800, 14218]])"
            ]
          },
          "execution_count": 25,
          "metadata": {},
          "output_type": "execute_result"
        }
      ],
      "source": [
        "#Confusion Matrix\n",
        "conf_matrix_svm = confusion_matrix(subsample_data['Outcome'], svm_predictions)\n",
        "\n",
        "conf_matrix_svm"
      ]
    },
    {
      "cell_type": "code",
      "execution_count": null,
      "metadata": {
        "colab": {
          "base_uri": "https://localhost:8080/",
          "height": 487
        },
        "id": "udespCXOndoN",
        "outputId": "7aff03f3-868d-4cf2-b49c-c55c3a62b6f0"
      },
      "outputs": [
        {
          "data": {
            "image/png": "[encoded data removed]",
            "text/plain": [
              "<Figure size 500x500 with 1 Axes>"
            ]
          },
          "metadata": {},
          "output_type": "display_data"
        }
      ],
      "source": [
        "#Confusion Matrix Plot\n",
        "plt.figure(figsize=(5,5))\n",
        "sns.heatmap(conf_matrix_svm, annot=True, fmt='d', cmap='Blues', cbar=False)\n",
        "plt.xlabel('Predicted Label')\n",
        "plt.ylabel('True Label')\n",
        "plt.title('Confusion Matrix From CNN + SVM')\n",
        "plt.show()"
      ]
    },
    {
      "cell_type": "code",
      "execution_count": null,
      "metadata": {
        "id": "zaRm5bAflMn7"
      },
      "outputs": [],
      "source": [
        "#TP,TN,FP,FN from Confusion Matrix\n",
        "TP_svm = conf_matrix_svm[1, 1]\n",
        "TN_svm = conf_matrix_svm[0, 0]\n",
        "FP_svm = conf_matrix_svm[0, 1]\n",
        "FN_svm = conf_matrix_svm[1, 0]\n",
        "\n",
        "#Accuracy\n",
        "accuracy_svm = ((TP_svm + TN_svm) / (TP_svm + TN_svm + FP_svm + FN_svm)) * 100\n",
        "\n",
        "#Precision\n",
        "precision_svm = (TP_svm / (TP_svm + FP_svm)) * 100\n",
        "\n",
        "#Sensitivity\n",
        "sensitivity_svm = (TP_svm / (TP_svm + FN_svm)) * 100\n",
        "\n",
        "#F1 Score\n",
        "f1score_svm = 2 * (precision_svm * sensitivity_svm) / (precision_svm + sensitivity_svm)"
      ]
    },
    {
      "cell_type": "code",
      "execution_count": null,
      "metadata": {
        "colab": {
          "base_uri": "https://localhost:8080/"
        },
        "id": "IBFnstYnnQQU",
        "outputId": "8a390cec-05ff-4086-ee41-fc33ede51961"
      },
      "outputs": [
        {
          "name": "stdout",
          "output_type": "stream",
          "text": [
            "Confusion Matrix Metrics for SVM Classifier:\n",
            "===========================================\n",
            "Metric                     Value\n",
            "--------------------  ----------\n",
            "True Positives (TP)   14218\n",
            "True Negatives (TN)   14385\n",
            "False Positives (FP)    597\n",
            "False Negatives (FN)    800\n",
            "Accuracy                 95.3433\n",
            "Precision                95.9703\n",
            "Sensitivity (Recall)     94.6731\n",
            "F1-score                 95.3173\n"
          ]
        }
      ],
      "source": [
        "data_svm = [\n",
        "    [\"True Positives (TP)\", TP_svm],\n",
        "    [\"True Negatives (TN)\", TN_svm],\n",
        "    [\"False Positives (FP)\", FP_svm],\n",
        "    [\"False Negatives (FN)\", FN_svm],\n",
        "    [\"Accuracy\", accuracy_svm],\n",
        "    [\"Precision\", precision_svm],\n",
        "    [\"Sensitivity (Recall)\", sensitivity_svm],\n",
        "    [\"F1-score\", f1score_svm]\n",
        "]\n",
        "\n",
        "#Tabulate the Data\n",
        "print(\"Confusion Matrix Metrics for SVM Classifier:\")\n",
        "print(\"===========================================\")\n",
        "print(tabulate(data_svm, headers=[\"Metric\", \"Value\"]))"
      ]
    },
    {
      "cell_type": "code",
      "execution_count": null,
      "metadata": {
        "id": "GzHcv8WRDjp_"
      },
      "outputs": [],
      "source": [
        "#SVM Model Saving\n",
        "pickle.dump(svm_classifier,open('','wb'))"
      ]
    },
    {
      "cell_type": "markdown",
      "metadata": {
        "id": "ILKwoIoJ0N9g"
      },
      "source": [
        "#MLPS"
      ]
    },
    {
      "cell_type": "code",
      "execution_count": null,
      "metadata": {
        "id": "kAH-0Fakpddj"
      },
      "outputs": [],
      "source": [
        "#Spliting the data for Training and Validation\n",
        "X_train, X_val, y_train, y_val = train_test_split(combined_features, subsample_data['Outcome'], test_size=0.2, random_state=42)"
      ]
    },
    {
      "cell_type": "code",
      "execution_count": null,
      "metadata": {
        "colab": {
          "base_uri": "https://localhost:8080/"
        },
        "id": "Xh3kA4_0mw4m",
        "outputId": "d8dbfdce-1757-4f95-cf54-1bfe6939e327"
      },
      "outputs": [
        {
          "name": "stdout",
          "output_type": "stream",
          "text": [
            "(24000, 1879)\n",
            "(6000, 1879)\n",
            "(24000,)\n",
            "(6000,)\n"
          ]
        }
      ],
      "source": [
        "print(X_train.shape)\n",
        "\n",
        "print(X_val.shape)\n",
        "\n",
        "print(y_train.shape)\n",
        "\n",
        "print(y_val.shape)"
      ]
    },
    {
      "cell_type": "code",
      "execution_count": null,
      "metadata": {
        "colab": {
          "base_uri": "https://localhost:8080/"
        },
        "id": "iEN0MkxBn3i5",
        "outputId": "4c75712f-def0-44e4-888d-f5a94a8f6fcd"
      },
      "outputs": [
        {
          "name": "stdout",
          "output_type": "stream",
          "text": [
            "Class Counts in y_val:\n",
            "Counter({1.0: 3008, 0.0: 2992})\n"
          ]
        }
      ],
      "source": [
        "#Counting Occurences\n",
        "class_counts_val = Counter(y_val)\n",
        "\n",
        "#Display the counts\n",
        "print(\"Class Counts in y_val:\")\n",
        "print(class_counts_val)"
      ]
    },
    {
      "cell_type": "code",
      "execution_count": null,
      "metadata": {
        "id": "x5BjUD-7pjSk"
      },
      "outputs": [],
      "source": [
        "#MLP Model\n",
        "mlp_model = Sequential([\n",
        "    Flatten(input_shape=(combined_features.shape[1],)),\n",
        "    Dense(128, activation='relu'),\n",
        "    Dropout(0.3),\n",
        "    Dense(64, activation='relu'),\n",
        "    Dense(64, activation='relu'),\n",
        "    Dense(32, activation='relu'),\n",
        "    Dense(1, activation='sigmoid')\n",
        "])\n",
        "\n",
        "#Model Compiling\n",
        "mlp_model.compile(optimizer=Adam(), loss='binary_crossentropy', metrics=['accuracy'])"
      ]
    },
    {
      "cell_type": "code",
      "execution_count": null,
      "metadata": {
        "colab": {
          "base_uri": "https://localhost:8080/"
        },
        "id": "P7jsXnwqxzaF",
        "outputId": "2ffe7307-bd83-46f7-eb78-d07299ee5974"
      },
      "outputs": [
        {
          "name": "stdout",
          "output_type": "stream",
          "text": [
            "Model: \"sequential_28\"\n",
            "_________________________________________________________________\n",
            " Layer (type)                Output Shape              Param #   \n",
            "=================================================================\n",
            " flatten_28 (Flatten)        (None, 1879)              0         \n",
            "                                                                 \n",
            " dense_88 (Dense)            (None, 128)               240640    \n",
            "                                                                 \n",
            " dropout_29 (Dropout)        (None, 128)               0         \n",
            "                                                                 \n",
            " dense_89 (Dense)            (None, 64)                8256      \n",
            "                                                                 \n",
            " dense_90 (Dense)            (None, 64)                4160      \n",
            "                                                                 \n",
            " dense_91 (Dense)            (None, 32)                2080      \n",
            "                                                                 \n",
            " dense_92 (Dense)            (None, 1)                 33        \n",
            "                                                                 \n",
            "=================================================================\n",
            "Total params: 255169 (996.75 KB)\n",
            "Trainable params: 255169 (996.75 KB)\n",
            "Non-trainable params: 0 (0.00 Byte)\n",
            "_________________________________________________________________\n"
          ]
        }
      ],
      "source": [
        "#Model Summary\n",
        "mlp_model.summary()"
      ]
    },
    {
      "cell_type": "code",
      "execution_count": null,
      "metadata": {
        "colab": {
          "base_uri": "https://localhost:8080/"
        },
        "id": "29rK-OCfpmmy",
        "outputId": "695ae2c8-6e6b-4916-bcf9-cb7e29c17946"
      },
      "outputs": [
        {
          "name": "stdout",
          "output_type": "stream",
          "text": [
            "Epoch 1/30\n",
            "1500/1500 [==============================] - 8s 5ms/step - loss: 0.4456 - accuracy: 0.7886 - val_loss: 0.4182 - val_accuracy: 0.8117\n",
            "Epoch 2/30\n",
            "1500/1500 [==============================] - 6s 4ms/step - loss: 0.3915 - accuracy: 0.8219 - val_loss: 0.4033 - val_accuracy: 0.8172\n",
            "Epoch 3/30\n",
            "1500/1500 [==============================] - 7s 5ms/step - loss: 0.3720 - accuracy: 0.8292 - val_loss: 0.3975 - val_accuracy: 0.8195\n",
            "Epoch 4/30\n",
            "1500/1500 [==============================] - 6s 4ms/step - loss: 0.3566 - accuracy: 0.8387 - val_loss: 0.4069 - val_accuracy: 0.8187\n",
            "Epoch 5/30\n",
            "1500/1500 [==============================] - 6s 4ms/step - loss: 0.3450 - accuracy: 0.8437 - val_loss: 0.4039 - val_accuracy: 0.8153\n",
            "Epoch 6/30\n",
            "1500/1500 [==============================] - 6s 4ms/step - loss: 0.3347 - accuracy: 0.8504 - val_loss: 0.4032 - val_accuracy: 0.8210\n",
            "Epoch 7/30\n",
            "1500/1500 [==============================] - 6s 4ms/step - loss: 0.3258 - accuracy: 0.8541 - val_loss: 0.3970 - val_accuracy: 0.8195\n",
            "Epoch 8/30\n",
            "1500/1500 [==============================] - 6s 4ms/step - loss: 0.3136 - accuracy: 0.8630 - val_loss: 0.4054 - val_accuracy: 0.8192\n",
            "Epoch 9/30\n",
            "1500/1500 [==============================] - 6s 4ms/step - loss: 0.3063 - accuracy: 0.8633 - val_loss: 0.4077 - val_accuracy: 0.8208\n",
            "Epoch 10/30\n",
            "1500/1500 [==============================] - 7s 5ms/step - loss: 0.2992 - accuracy: 0.8667 - val_loss: 0.4060 - val_accuracy: 0.8175\n",
            "Epoch 11/30\n",
            "1500/1500 [==============================] - 6s 4ms/step - loss: 0.2915 - accuracy: 0.8715 - val_loss: 0.4316 - val_accuracy: 0.8220\n",
            "Epoch 12/30\n",
            "1500/1500 [==============================] - 8s 5ms/step - loss: 0.2839 - accuracy: 0.8768 - val_loss: 0.4366 - val_accuracy: 0.8243\n",
            "Epoch 13/30\n",
            "1500/1500 [==============================] - 6s 4ms/step - loss: 0.2737 - accuracy: 0.8815 - val_loss: 0.4325 - val_accuracy: 0.8183\n",
            "Epoch 14/30\n",
            "1500/1500 [==============================] - 6s 4ms/step - loss: 0.2698 - accuracy: 0.8823 - val_loss: 0.4294 - val_accuracy: 0.8167\n",
            "Epoch 15/30\n",
            "1500/1500 [==============================] - 6s 4ms/step - loss: 0.2612 - accuracy: 0.8860 - val_loss: 0.4472 - val_accuracy: 0.8232\n",
            "Epoch 16/30\n",
            "1500/1500 [==============================] - 6s 4ms/step - loss: 0.2553 - accuracy: 0.8912 - val_loss: 0.4462 - val_accuracy: 0.8148\n",
            "Epoch 17/30\n",
            "1500/1500 [==============================] - 6s 4ms/step - loss: 0.2480 - accuracy: 0.8963 - val_loss: 0.4546 - val_accuracy: 0.8203\n",
            "Epoch 18/30\n",
            "1500/1500 [==============================] - 7s 4ms/step - loss: 0.2427 - accuracy: 0.8978 - val_loss: 0.4765 - val_accuracy: 0.8140\n",
            "Epoch 19/30\n",
            "1500/1500 [==============================] - 6s 4ms/step - loss: 0.2385 - accuracy: 0.8987 - val_loss: 0.4987 - val_accuracy: 0.8212\n",
            "Epoch 20/30\n",
            "1500/1500 [==============================] - 7s 4ms/step - loss: 0.2343 - accuracy: 0.9010 - val_loss: 0.5130 - val_accuracy: 0.8167\n",
            "Epoch 21/30\n",
            "1500/1500 [==============================] - 6s 4ms/step - loss: 0.2281 - accuracy: 0.9041 - val_loss: 0.4973 - val_accuracy: 0.8143\n",
            "Epoch 22/30\n",
            "1500/1500 [==============================] - 8s 6ms/step - loss: 0.2261 - accuracy: 0.9058 - val_loss: 0.4784 - val_accuracy: 0.8158\n",
            "Epoch 23/30\n",
            "1500/1500 [==============================] - 6s 4ms/step - loss: 0.2217 - accuracy: 0.9083 - val_loss: 0.5169 - val_accuracy: 0.8207\n",
            "Epoch 24/30\n",
            "1500/1500 [==============================] - 7s 4ms/step - loss: 0.2131 - accuracy: 0.9115 - val_loss: 0.5165 - val_accuracy: 0.8185\n",
            "Epoch 25/30\n",
            "1500/1500 [==============================] - 6s 4ms/step - loss: 0.2093 - accuracy: 0.9144 - val_loss: 0.5257 - val_accuracy: 0.8117\n",
            "Epoch 26/30\n",
            "1500/1500 [==============================] - 7s 5ms/step - loss: 0.2106 - accuracy: 0.9142 - val_loss: 0.5123 - val_accuracy: 0.8158\n",
            "Epoch 27/30\n",
            "1500/1500 [==============================] - 6s 4ms/step - loss: 0.2053 - accuracy: 0.9157 - val_loss: 0.5569 - val_accuracy: 0.8160\n",
            "Epoch 28/30\n",
            "1500/1500 [==============================] - 7s 4ms/step - loss: 0.1985 - accuracy: 0.9162 - val_loss: 0.5444 - val_accuracy: 0.8153\n",
            "Epoch 29/30\n",
            "1500/1500 [==============================] - 6s 4ms/step - loss: 0.1967 - accuracy: 0.9199 - val_loss: 0.5708 - val_accuracy: 0.8112\n",
            "Epoch 30/30\n",
            "1500/1500 [==============================] - 7s 4ms/step - loss: 0.1991 - accuracy: 0.9193 - val_loss: 0.5603 - val_accuracy: 0.8143\n"
          ]
        }
      ],
      "source": [
        "#Model Training\n",
        "mlp_hist = mlp_model.fit(X_train, y_train, epochs=30, batch_size=16, validation_data=(X_val, y_val))"
      ]
    },
    {
      "cell_type": "code",
      "execution_count": null,
      "metadata": {
        "colab": {
          "base_uri": "https://localhost:8080/"
        },
        "id": "PKH4ED7Tpm-y",
        "outputId": "62487cde-a2c6-4dbf-cb34-2747fa898cba"
      },
      "outputs": [
        {
          "name": "stdout",
          "output_type": "stream",
          "text": [
            "188/188 [==============================] - 1s 2ms/step\n"
          ]
        }
      ],
      "source": [
        "#Prediction with Model\n",
        "mlp_predictions = (mlp_model.predict(X_val) > 0.5).astype(\"int32\")"
      ]
    },
    {
      "cell_type": "code",
      "execution_count": null,
      "metadata": {
        "id": "vmfXoKBNyl2j"
      },
      "outputs": [],
      "source": [
        "#Saving the Training History\n",
        "with open('', 'wb') as file:\n",
        "    pickle.dump(mlp_hist.history, file)"
      ]
    },
    {
      "cell_type": "markdown",
      "metadata": {
        "id": "1JY8W8PSwlTv"
      },
      "source": [
        "##MLP Confusion Matrix"
      ]
    },
    {
      "cell_type": "code",
      "execution_count": null,
      "metadata": {
        "colab": {
          "base_uri": "https://localhost:8080/"
        },
        "id": "gn8Wr_v2vVgD",
        "outputId": "4215e25a-4c1d-48b8-c002-458472edb6fb"
      },
      "outputs": [
        {
          "data": {
            "text/plain": [
              "array([[2462,  530],\n",
              "       [ 584, 2424]])"
            ]
          },
          "execution_count": 34,
          "metadata": {},
          "output_type": "execute_result"
        }
      ],
      "source": [
        "#Confusion Matrix\n",
        "conf_matrix_mlp = confusion_matrix(y_val, mlp_predictions)\n",
        "\n",
        "conf_matrix_mlp"
      ]
    },
    {
      "cell_type": "code",
      "execution_count": null,
      "metadata": {
        "colab": {
          "base_uri": "https://localhost:8080/",
          "height": 487
        },
        "id": "_QZ71dTNvgyX",
        "outputId": "fbaab260-b8ea-4f72-ce4f-1d6f792470d0"
      },
      "outputs": [
        {
          "data": {
            "image/png": "[encoded data removed]",
            "text/plain": [
              "<Figure size 500x500 with 1 Axes>"
            ]
          },
          "metadata": {},
          "output_type": "display_data"
        }
      ],
      "source": [
        "#Confusion Matrix Plot\n",
        "plt.figure(figsize=(5,5))\n",
        "sns.heatmap(conf_matrix_mlp, annot=True, fmt='d', cmap='Blues', cbar=False)\n",
        "plt.title('Confusion Matrix for MLP Model')\n",
        "plt.xlabel('Predicted Labels')\n",
        "plt.ylabel('True Labels')\n",
        "plt.show()"
      ]
    },
    {
      "cell_type": "code",
      "execution_count": null,
      "metadata": {
        "id": "hxxMSrVAv4G4"
      },
      "outputs": [],
      "source": [
        "#TP,TN,FP,FN from the Confusion Matrix\n",
        "TP_MLP = conf_matrix_mlp[1, 1]\n",
        "TN_MLP = conf_matrix_mlp[0, 0]\n",
        "FP_MLP = conf_matrix_mlp[0, 1]\n",
        "FN_MLP = conf_matrix_mlp[1, 0]\n",
        "\n",
        "#Accuracy\n",
        "acc_MLP = ((TP_MLP + TN_MLP) / (TP_MLP + TN_MLP + FP_MLP + FN_MLP)) * 100\n",
        "\n",
        "#Precision\n",
        "pre_MLP = (TP_MLP / (TP_MLP + FP_MLP)) * 100\n",
        "\n",
        "#Sensitivity\n",
        "sens_MLP = (TP_MLP / (TP_MLP + FN_MLP)) * 100\n",
        "\n",
        "#F1 Score\n",
        "f1score_MLP = 2 * (pre_MLP * sens_MLP) / (pre_MLP + sens_MLP)"
      ]
    },
    {
      "cell_type": "code",
      "execution_count": null,
      "metadata": {
        "colab": {
          "base_uri": "https://localhost:8080/"
        },
        "id": "w3qDY_1Jv7BM",
        "outputId": "398a1140-1fc2-468a-b165-b601975b83aa"
      },
      "outputs": [
        {
          "name": "stdout",
          "output_type": "stream",
          "text": [
            "Confusion Matrix Metrics for MLP:\n",
            "=================================\n",
            "Metric                    Value\n",
            "--------------------  ---------\n",
            "True Positives (TP)   2424\n",
            "True Negatives (TN)   2462\n",
            "False Positives (FP)   530\n",
            "False Negatives (FN)   584\n",
            "Accuracy                81.4333\n",
            "Precision               82.0582\n",
            "Sensitivity (Recall)    80.5851\n",
            "F1-score                81.315\n"
          ]
        }
      ],
      "source": [
        "data_MLP = [\n",
        "    [\"True Positives (TP)\", TP_MLP],\n",
        "    [\"True Negatives (TN)\", TN_MLP],\n",
        "    [\"False Positives (FP)\", FP_MLP],\n",
        "    [\"False Negatives (FN)\", FN_MLP],\n",
        "    [\"Accuracy\", acc_MLP],\n",
        "    [\"Precision\", pre_MLP],\n",
        "    [\"Sensitivity (Recall)\", sens_MLP],\n",
        "    [\"F1-score\", f1score_MLP]\n",
        "]\n",
        "\n",
        "#Tabulate the Data\n",
        "print(\"Confusion Matrix Metrics for MLP:\")\n",
        "print(\"=================================\")\n",
        "print(tabulate(data_MLP, headers=[\"Metric\", \"Value\"]))"
      ]
    },
    {
      "cell_type": "markdown",
      "metadata": {
        "id": "Bm073AOGwqIc"
      },
      "source": [
        "##MLP Graphs"
      ]
    },
    {
      "cell_type": "code",
      "execution_count": null,
      "metadata": {
        "id": "vYkwYOrQwQHm"
      },
      "outputs": [],
      "source": [
        "#Loss and Acc Extraction from History\n",
        "Mlp_train_loss = mlp_hist['loss']\n",
        "Mlp_train_acc = mlp_hist['accuracy']\n",
        "Mlp_val_loss = mlp_hist['val_loss']\n",
        "Mlp_val_acc = mlp_hist['val_accuracy']"
      ]
    },
    {
      "cell_type": "code",
      "execution_count": null,
      "metadata": {
        "colab": {
          "base_uri": "https://localhost:8080/",
          "height": 957
        },
        "id": "iBYKKJ1BwJ5S",
        "outputId": "7cc31e9f-d542-4222-be7e-00d8fb1a25e8"
      },
      "outputs": [
        {
          "data": {
            "image/png": "[encoded data removed]",
            "text/plain": [
              "<Figure size 500x500 with 1 Axes>"
            ]
          },
          "metadata": {},
          "output_type": "display_data"
        },
        {
          "data": {
            "image/png": "[encoded data removed]",
            "text/plain": [
              "<Figure size 500x500 with 1 Axes>"
            ]
          },
          "metadata": {},
          "output_type": "display_data"
        }
      ],
      "source": [
        "#Loss Plot\n",
        "plt.figure(figsize=(5,5))\n",
        "plt.plot(Mlp_train_loss, label='Train Loss', color='blue')\n",
        "plt.plot(Mlp_val_loss, label='Validation Loss', color='orange')\n",
        "plt.title('Training and Validation Loss')\n",
        "plt.xlabel('Epochs')\n",
        "plt.ylabel('Loss')\n",
        "plt.ylim([0, 1])\n",
        "plt.legend()\n",
        "plt.show()\n",
        "\n",
        "#Accuracy Plot\n",
        "plt.figure(figsize=(5,5))\n",
        "plt.plot(Mlp_train_acc, label='Train Accuracy', color='blue')\n",
        "plt.plot(Mlp_val_acc, label='Validation Accuracy', color='orange')\n",
        "plt.title('Training and Validation Accuracy')\n",
        "plt.xlabel('Epochs')\n",
        "plt.ylabel('Accuracy')\n",
        "plt.ylim([0, 1])\n",
        "plt.legend()\n",
        "plt.show()"
      ]
    },
    {
      "cell_type": "code",
      "execution_count": null,
      "metadata": {
        "id": "3i18iD9H4pPY"
      },
      "outputs": [],
      "source": [
        "#MLP Model\n",
        "mlp_model.save('')"
      ]
    },
    {
      "cell_type": "markdown",
      "metadata": {
        "id": "3HzoJuCWIUWt"
      },
      "source": [
        "#COMPARISON"
      ]
    },
    {
      "cell_type": "code",
      "execution_count": null,
      "metadata": {
        "id": "ITYeWACRIYGY"
      },
      "outputs": [],
      "source": [
        "results ={'Accuracy': [acc_CNN_Con,accuracy_svm,acc_MLP],\n",
        "          'Precision': [pre_CNN_Con,precision_svm,pre_MLP],\n",
        "          'Sensitivity':[sens_CNN_Con,sensitivity_svm,sens_MLP],\n",
        "          'F1 Score' : [f1score_CNN_Con,f1score_svm,f1score_MLP]}\n",
        "index = ['CNN','CNN+SVM','MLP']"
      ]
    },
    {
      "cell_type": "code",
      "execution_count": null,
      "metadata": {
        "colab": {
          "base_uri": "https://localhost:8080/"
        },
        "id": "N1-HORK_JXFl",
        "outputId": "e7b0d145-291b-46e3-9126-b78dbb740393"
      },
      "outputs": [
        {
          "name": "stdout",
          "output_type": "stream",
          "text": [
            "          Accuracy  Precision  Sensitivity   F1 Score\n",
            "CNN      95.343333  96.057348    94.579838  95.312867\n",
            "CNN+SVM  95.343333  95.970300    94.673059  95.317266\n",
            "MLP      81.433333  82.058226    80.585106  81.314995\n"
          ]
        }
      ],
      "source": [
        "results =pd.DataFrame(results,index=index)\n",
        "print(results)"
      ]
    },
    {
      "cell_type": "code",
      "execution_count": null,
      "metadata": {
        "colab": {
          "base_uri": "https://localhost:8080/",
          "height": 757
        },
        "id": "TQoqX42zJfnZ",
        "outputId": "9ff3e8b7-3715-44b9-8f93-36be54c96fe6"
      },
      "outputs": [
        {
          "data": {
            "image/png": "[encoded data removed]",
            "text/plain": [
              "<Figure size 800x800 with 1 Axes>"
            ]
          },
          "metadata": {},
          "output_type": "display_data"
        }
      ],
      "source": [
        "fig =results.plot(kind='bar',title='Comparison Of All Models',figsize =(8,8)).get_figure()"
      ]
    },
    {
      "cell_type": "markdown",
      "metadata": {
        "id": "VZR61aT53KXK"
      },
      "source": [
        "##Accuracy Graph"
      ]
    },
    {
      "cell_type": "code",
      "execution_count": null,
      "metadata": {
        "colab": {
          "base_uri": "https://localhost:8080/",
          "height": 507
        },
        "id": "lttFGEi114qt",
        "outputId": "6701822d-725c-4180-cc1a-f588d44fcb45"
      },
      "outputs": [
        {
          "data": {
            "image/png": "[encoded data removed]",
            "text/plain": [
              "<Figure size 500x500 with 1 Axes>"
            ]
          },
          "metadata": {},
          "output_type": "display_data"
        }
      ],
      "source": [
        "plt.figure(figsize=(5,5))\n",
        "plt.bar(results.index, results['Accuracy'], color=['blue', 'green', 'orange'])\n",
        "plt.title('Accuracy Comparison')\n",
        "plt.xlabel('Model')\n",
        "plt.ylabel('Accuracy')\n",
        "plt.xticks(rotation=45)\n",
        "plt.grid(axis='y', linestyle='--', alpha=0.7)\n",
        "plt.tight_layout()\n",
        "plt.show()"
      ]
    },
    {
      "cell_type": "markdown",
      "metadata": {
        "id": "QJQX3EqJ3NSy"
      },
      "source": [
        "##Precision Graph"
      ]
    },
    {
      "cell_type": "code",
      "execution_count": null,
      "metadata": {
        "colab": {
          "base_uri": "https://localhost:8080/",
          "height": 507
        },
        "id": "Fnm6hCFE18s4",
        "outputId": "3200907e-be75-4e9a-e0a0-43417c9ce5ef"
      },
      "outputs": [
        {
          "data": {
            "image/png": "[encoded data removed]",
            "text/plain": [
              "<Figure size 500x500 with 1 Axes>"
            ]
          },
          "metadata": {},
          "output_type": "display_data"
        }
      ],
      "source": [
        "plt.figure(figsize= (5,5))\n",
        "plt.bar(results.index, results['Precision'], color=['blue', 'green', 'orange'])\n",
        "plt.title('Precision Comparison')\n",
        "plt.xlabel('Model')\n",
        "plt.ylabel('Precision')\n",
        "plt.xticks(rotation=45)\n",
        "plt.grid(axis='y', linestyle='--', alpha=0.7)\n",
        "plt.tight_layout()\n",
        "plt.show()"
      ]
    },
    {
      "cell_type": "markdown",
      "metadata": {
        "id": "6qI74AU53RZU"
      },
      "source": [
        "##Sensitivity Graph"
      ]
    },
    {
      "cell_type": "code",
      "execution_count": null,
      "metadata": {
        "colab": {
          "base_uri": "https://localhost:8080/",
          "height": 507
        },
        "id": "VF9puf1X1-Sv",
        "outputId": "37578151-6ed7-4f27-9b30-8dcaea26e424"
      },
      "outputs": [
        {
          "data": {
            "image/png": "[encoded data removed]",
            "text/plain": [
              "<Figure size 500x500 with 1 Axes>"
            ]
          },
          "metadata": {},
          "output_type": "display_data"
        }
      ],
      "source": [
        "plt.figure(figsize=(5,5))\n",
        "plt.bar(results.index, results['Sensitivity'], color=['blue', 'green', 'orange'])\n",
        "plt.title('Sensitivity Comparison')\n",
        "plt.xlabel('Model')\n",
        "plt.ylabel('Sensitivity')\n",
        "plt.xticks(rotation=45)\n",
        "plt.grid(axis='y', linestyle='--', alpha=0.7)\n",
        "plt.tight_layout()\n",
        "plt.show()"
      ]
    },
    {
      "cell_type": "markdown",
      "metadata": {
        "id": "hrPNE6RS3VHx"
      },
      "source": [
        "##F1 Score Graph"
      ]
    },
    {
      "cell_type": "code",
      "execution_count": null,
      "metadata": {
        "colab": {
          "base_uri": "https://localhost:8080/",
          "height": 507
        },
        "id": "HcewlXAo2AEG",
        "outputId": "ba9f7270-e871-460a-b24f-088fee46727c"
      },
      "outputs": [
        {
          "data": {
            "image/png": "[encoded data removed]",
            "text/plain": [
              "<Figure size 500x500 with 1 Axes>"
            ]
          },
          "metadata": {},
          "output_type": "display_data"
        }
      ],
      "source": [
        "plt.figure(figsize=(5,5))\n",
        "plt.bar(results.index, results['F1 Score'], color=['blue', 'green', 'orange'])\n",
        "plt.title('F1 Score Comparison')\n",
        "plt.xlabel('Model')\n",
        "plt.ylabel('F1 Score')\n",
        "plt.xticks(rotation=45)\n",
        "plt.grid(axis='y', linestyle='--', alpha=0.7)\n",
        "plt.tight_layout()\n",
        "plt.show()"
      ]
    },
    {
      "cell_type": "markdown",
      "source": [
        "#TESTING"
      ],
      "metadata": {
        "id": "XxssBMyb4goc"
      }
    },
    {
      "cell_type": "code",
      "source": [
        "df =  pd.read_csv('')"
      ],
      "metadata": {
        "id": "5SKa3fmO4i7K"
      },
      "execution_count": null,
      "outputs": []
    },
    {
      "cell_type": "code",
      "source": [
        "subsample = df.sample(n=30000, random_state = 42)\n",
        "\n",
        "#Count the number of ictal (label 1) and preictal (label 0) samples in the sampled data\n",
        "ictal_count = subsample[subsample['Outcome'] == 1].shape[0]\n",
        "preictal_count = subsample[subsample['Outcome'] == 0].shape[0]\n",
        "\n",
        "print(f'Number of ictal samples in the subsample: {ictal_count}')\n",
        "print(f'Number of preictal samples in the subsample: {preictal_count}')"
      ],
      "metadata": {
        "colab": {
          "base_uri": "https://localhost:8080/"
        },
        "id": "rC4njrWA4kxG",
        "outputId": "2c0af87c-96f8-4f97-f222-300888fdb47a"
      },
      "execution_count": null,
      "outputs": [
        {
          "output_type": "stream",
          "name": "stdout",
          "text": [
            "Number of ictal samples in the subsample: 15018\n",
            "Number of preictal samples in the subsample: 14982\n"
          ]
        }
      ]
    },
    {
      "cell_type": "code",
      "source": [
        "subsample.head()"
      ],
      "metadata": {
        "colab": {
          "base_uri": "https://localhost:8080/",
          "height": 236
        },
        "id": "dx77O9WX6D5b",
        "outputId": "b81c3795-3697-4a4c-97e7-a7ee6d5894b6"
      },
      "execution_count": null,
      "outputs": [
        {
          "output_type": "execute_result",
          "data": {
            "text/plain": [
              "         # FP1-F7     C3-P3     C4-P4     CZ-PZ     F3-C3     F4-C4     F7-T7  \\\n",
              "1125183 -0.000019  0.000056  0.000052  0.000055  0.000115  0.000142 -0.000003   \n",
              "25825    0.000015  0.000021 -0.000041 -0.000015 -0.000076 -0.000044 -0.000015   \n",
              "792140   0.000005  0.000006 -0.000029  0.000003  0.000024  0.000029  0.000047   \n",
              "1954170 -0.000061 -0.000014 -0.000110 -0.000093  0.000045  0.000075  0.000017   \n",
              "282235  -0.000039 -0.000016 -0.000019 -0.000013 -0.000015 -0.000022  0.000002   \n",
              "\n",
              "            F8-T8    FP1-F3    FP2-F4  ...     P3-O1     P4-O2     P7-O1  \\\n",
              "1125183  0.000140 -0.000018  0.000038  ...  0.000074  0.000084  0.000032   \n",
              "25825   -0.000080  0.000122  0.000040  ... -0.000022  0.000063 -0.000006   \n",
              "792140   0.000020  0.000050  0.000046  ... -0.000030 -0.000023  0.000071   \n",
              "1954170  0.000004  0.000077  0.000075  ... -0.000184 -0.000135 -0.000083   \n",
              "282235  -0.000040 -0.000009  0.000006  ...  0.000014 -0.000005  0.000010   \n",
              "\n",
              "                P7-T7     P8-O2    T7-FT9         T7-P7   T8-P8-0   T8-P8-1  \\\n",
              "1125183 -2.170450e-04 -0.000053  0.000006  2.174360e-04  0.000095  0.000095   \n",
              "25825   -4.980000e-05  0.000032 -0.000038  5.020000e-05  0.000034  0.000034   \n",
              "792140   7.480000e-05 -0.000002 -0.000024 -7.440000e-05  0.000005  0.000005   \n",
              "1954170 -5.010000e-05 -0.000002 -0.000027  5.070000e-05 -0.000136 -0.000136   \n",
              "282235   9.770000e-07 -0.000012 -0.000002 -5.860000e-07 -0.000012 -0.000012   \n",
              "\n",
              "         Outcome  \n",
              "1125183      1.0  \n",
              "25825        0.0  \n",
              "792140       0.0  \n",
              "1954170      1.0  \n",
              "282235       0.0  \n",
              "\n",
              "[5 rows x 24 columns]"
            ],
            "text/html": [
              "\n",
              "  <div id=\"df-45444dd8-3ee8-4acc-b31f-1a8689949dd5\" class=\"colab-df-container\">\n",
              "    <div>\n",
              "<style scoped>\n",
              "    .dataframe tbody tr th:only-of-type {\n",
              "        vertical-align: middle;\n",
              "    }\n",
              "\n",
              "    .dataframe tbody tr th {\n",
              "        vertical-align: top;\n",
              "    }\n",
              "\n",
              "    .dataframe thead th {\n",
              "        text-align: right;\n",
              "    }\n",
              "</style>\n",
              "<table border=\"1\" class=\"dataframe\">\n",
              "  <thead>\n",
              "    <tr style=\"text-align: right;\">\n",
              "      <th></th>\n",
              "      <th># FP1-F7</th>\n",
              "      <th>C3-P3</th>\n",
              "      <th>C4-P4</th>\n",
              "      <th>CZ-PZ</th>\n",
              "      <th>F3-C3</th>\n",
              "      <th>F4-C4</th>\n",
              "      <th>F7-T7</th>\n",
              "      <th>F8-T8</th>\n",
              "      <th>FP1-F3</th>\n",
              "      <th>FP2-F4</th>\n",
              "      <th>...</th>\n",
              "      <th>P3-O1</th>\n",
              "      <th>P4-O2</th>\n",
              "      <th>P7-O1</th>\n",
              "      <th>P7-T7</th>\n",
              "      <th>P8-O2</th>\n",
              "      <th>T7-FT9</th>\n",
              "      <th>T7-P7</th>\n",
              "      <th>T8-P8-0</th>\n",
              "      <th>T8-P8-1</th>\n",
              "      <th>Outcome</th>\n",
              "    </tr>\n",
              "  </thead>\n",
              "  <tbody>\n",
              "    <tr>\n",
              "      <th>1125183</th>\n",
              "      <td>-0.000019</td>\n",
              "      <td>0.000056</td>\n",
              "      <td>0.000052</td>\n",
              "      <td>0.000055</td>\n",
              "      <td>0.000115</td>\n",
              "      <td>0.000142</td>\n",
              "      <td>-0.000003</td>\n",
              "      <td>0.000140</td>\n",
              "      <td>-0.000018</td>\n",
              "      <td>0.000038</td>\n",
              "      <td>...</td>\n",
              "      <td>0.000074</td>\n",
              "      <td>0.000084</td>\n",
              "      <td>0.000032</td>\n",
              "      <td>-2.170450e-04</td>\n",
              "      <td>-0.000053</td>\n",
              "      <td>0.000006</td>\n",
              "      <td>2.174360e-04</td>\n",
              "      <td>0.000095</td>\n",
              "      <td>0.000095</td>\n",
              "      <td>1.0</td>\n",
              "    </tr>\n",
              "    <tr>\n",
              "      <th>25825</th>\n",
              "      <td>0.000015</td>\n",
              "      <td>0.000021</td>\n",
              "      <td>-0.000041</td>\n",
              "      <td>-0.000015</td>\n",
              "      <td>-0.000076</td>\n",
              "      <td>-0.000044</td>\n",
              "      <td>-0.000015</td>\n",
              "      <td>-0.000080</td>\n",
              "      <td>0.000122</td>\n",
              "      <td>0.000040</td>\n",
              "      <td>...</td>\n",
              "      <td>-0.000022</td>\n",
              "      <td>0.000063</td>\n",
              "      <td>-0.000006</td>\n",
              "      <td>-4.980000e-05</td>\n",
              "      <td>0.000032</td>\n",
              "      <td>-0.000038</td>\n",
              "      <td>5.020000e-05</td>\n",
              "      <td>0.000034</td>\n",
              "      <td>0.000034</td>\n",
              "      <td>0.0</td>\n",
              "    </tr>\n",
              "    <tr>\n",
              "      <th>792140</th>\n",
              "      <td>0.000005</td>\n",
              "      <td>0.000006</td>\n",
              "      <td>-0.000029</td>\n",
              "      <td>0.000003</td>\n",
              "      <td>0.000024</td>\n",
              "      <td>0.000029</td>\n",
              "      <td>0.000047</td>\n",
              "      <td>0.000020</td>\n",
              "      <td>0.000050</td>\n",
              "      <td>0.000046</td>\n",
              "      <td>...</td>\n",
              "      <td>-0.000030</td>\n",
              "      <td>-0.000023</td>\n",
              "      <td>0.000071</td>\n",
              "      <td>7.480000e-05</td>\n",
              "      <td>-0.000002</td>\n",
              "      <td>-0.000024</td>\n",
              "      <td>-7.440000e-05</td>\n",
              "      <td>0.000005</td>\n",
              "      <td>0.000005</td>\n",
              "      <td>0.0</td>\n",
              "    </tr>\n",
              "    <tr>\n",
              "      <th>1954170</th>\n",
              "      <td>-0.000061</td>\n",
              "      <td>-0.000014</td>\n",
              "      <td>-0.000110</td>\n",
              "      <td>-0.000093</td>\n",
              "      <td>0.000045</td>\n",
              "      <td>0.000075</td>\n",
              "      <td>0.000017</td>\n",
              "      <td>0.000004</td>\n",
              "      <td>0.000077</td>\n",
              "      <td>0.000075</td>\n",
              "      <td>...</td>\n",
              "      <td>-0.000184</td>\n",
              "      <td>-0.000135</td>\n",
              "      <td>-0.000083</td>\n",
              "      <td>-5.010000e-05</td>\n",
              "      <td>-0.000002</td>\n",
              "      <td>-0.000027</td>\n",
              "      <td>5.070000e-05</td>\n",
              "      <td>-0.000136</td>\n",
              "      <td>-0.000136</td>\n",
              "      <td>1.0</td>\n",
              "    </tr>\n",
              "    <tr>\n",
              "      <th>282235</th>\n",
              "      <td>-0.000039</td>\n",
              "      <td>-0.000016</td>\n",
              "      <td>-0.000019</td>\n",
              "      <td>-0.000013</td>\n",
              "      <td>-0.000015</td>\n",
              "      <td>-0.000022</td>\n",
              "      <td>0.000002</td>\n",
              "      <td>-0.000040</td>\n",
              "      <td>-0.000009</td>\n",
              "      <td>0.000006</td>\n",
              "      <td>...</td>\n",
              "      <td>0.000014</td>\n",
              "      <td>-0.000005</td>\n",
              "      <td>0.000010</td>\n",
              "      <td>9.770000e-07</td>\n",
              "      <td>-0.000012</td>\n",
              "      <td>-0.000002</td>\n",
              "      <td>-5.860000e-07</td>\n",
              "      <td>-0.000012</td>\n",
              "      <td>-0.000012</td>\n",
              "      <td>0.0</td>\n",
              "    </tr>\n",
              "  </tbody>\n",
              "</table>\n",
              "<p>5 rows × 24 columns</p>\n",
              "</div>\n",
              "    <div class=\"colab-df-buttons\">\n",
              "\n",
              "  <div class=\"colab-df-container\">\n",
              "    <button class=\"colab-df-convert\" onclick=\"convertToInteractive('df-45444dd8-3ee8-4acc-b31f-1a8689949dd5')\"\n",
              "            title=\"Convert this dataframe to an interactive table.\"\n",
              "            style=\"display:none;\">\n",
              "\n",
              "  <svg xmlns=\"http://www.w3.org/2000/svg\" height=\"24px\" viewBox=\"0 -960 960 960\">\n",
              "    <path d=\"M120-120v-720h720v720H120Zm60-500h600v-160H180v160Zm220 220h160v-160H400v160Zm0 220h160v-160H400v160ZM180-400h160v-160H180v160Zm440 0h160v-160H620v160ZM180-180h160v-160H180v160Zm440 0h160v-160H620v160Z\"/>\n",
              "  </svg>\n",
              "    </button>\n",
              "\n",
              "  <style>\n",
              "    .colab-df-container {\n",
              "      display:flex;\n",
              "      gap: 12px;\n",
              "    }\n",
              "\n",
              "    .colab-df-convert {\n",
              "      background-color: #E8F0FE;\n",
              "      border: none;\n",
              "      border-radius: 50%;\n",
              "      cursor: pointer;\n",
              "      display: none;\n",
              "      fill: #1967D2;\n",
              "      height: 32px;\n",
              "      padding: 0 0 0 0;\n",
              "      width: 32px;\n",
              "    }\n",
              "\n",
              "    .colab-df-convert:hover {\n",
              "      background-color: #E2EBFA;\n",
              "      box-shadow: 0px 1px 2px rgba(60, 64, 67, 0.3), 0px 1px 3px 1px rgba(60, 64, 67, 0.15);\n",
              "      fill: #174EA6;\n",
              "    }\n",
              "\n",
              "    .colab-df-buttons div {\n",
              "      margin-bottom: 4px;\n",
              "    }\n",
              "\n",
              "    [theme=dark] .colab-df-convert {\n",
              "      background-color: #3B4455;\n",
              "      fill: #D2E3FC;\n",
              "    }\n",
              "\n",
              "    [theme=dark] .colab-df-convert:hover {\n",
              "      background-color: #434B5C;\n",
              "      box-shadow: 0px 1px 3px 1px rgba(0, 0, 0, 0.15);\n",
              "      filter: drop-shadow(0px 1px 2px rgba(0, 0, 0, 0.3));\n",
              "      fill: #FFFFFF;\n",
              "    }\n",
              "  </style>\n",
              "\n",
              "    <script>\n",
              "      const buttonEl =\n",
              "        document.querySelector('#df-45444dd8-3ee8-4acc-b31f-1a8689949dd5 button.colab-df-convert');\n",
              "      buttonEl.style.display =\n",
              "        google.colab.kernel.accessAllowed ? 'block' : 'none';\n",
              "\n",
              "      async function convertToInteractive(key) {\n",
              "        const element = document.querySelector('#df-45444dd8-3ee8-4acc-b31f-1a8689949dd5');\n",
              "        const dataTable =\n",
              "          await google.colab.kernel.invokeFunction('convertToInteractive',\n",
              "                                                    [key], {});\n",
              "        if (!dataTable) return;\n",
              "\n",
              "        const docLinkHtml = 'Like what you see? Visit the ' +\n",
              "          '<a target=\"_blank\" href=https://colab.research.google.com/notebooks/data_table.ipynb>data table notebook</a>'\n",
              "          + ' to learn more about interactive tables.';\n",
              "        element.innerHTML = '';\n",
              "        dataTable['output_type'] = 'display_data';\n",
              "        await google.colab.output.renderOutput(dataTable, element);\n",
              "        const docLink = document.createElement('div');\n",
              "        docLink.innerHTML = docLinkHtml;\n",
              "        element.appendChild(docLink);\n",
              "      }\n",
              "    </script>\n",
              "  </div>\n",
              "\n",
              "\n",
              "<div id=\"df-212d6061-c3ac-4546-96cd-35e9f5bc99dc\">\n",
              "  <button class=\"colab-df-quickchart\" onclick=\"quickchart('df-212d6061-c3ac-4546-96cd-35e9f5bc99dc')\"\n",
              "            title=\"Suggest charts\"\n",
              "            style=\"display:none;\">\n",
              "\n",
              "<svg xmlns=\"http://www.w3.org/2000/svg\" height=\"24px\"viewBox=\"0 0 24 24\"\n",
              "     width=\"24px\">\n",
              "    <g>\n",
              "        <path d=\"M19 3H5c-1.1 0-2 .9-2 2v14c0 1.1.9 2 2 2h14c1.1 0 2-.9 2-2V5c0-1.1-.9-2-2-2zM9 17H7v-7h2v7zm4 0h-2V7h2v10zm4 0h-2v-4h2v4z\"/>\n",
              "    </g>\n",
              "</svg>\n",
              "  </button>\n",
              "\n",
              "<style>\n",
              "  .colab-df-quickchart {\n",
              "      --bg-color: #E8F0FE;\n",
              "      --fill-color: #1967D2;\n",
              "      --hover-bg-color: #E2EBFA;\n",
              "      --hover-fill-color: #174EA6;\n",
              "      --disabled-fill-color: #AAA;\n",
              "      --disabled-bg-color: #DDD;\n",
              "  }\n",
              "\n",
              "  [theme=dark] .colab-df-quickchart {\n",
              "      --bg-color: #3B4455;\n",
              "      --fill-color: #D2E3FC;\n",
              "      --hover-bg-color: #434B5C;\n",
              "      --hover-fill-color: #FFFFFF;\n",
              "      --disabled-bg-color: #3B4455;\n",
              "      --disabled-fill-color: #666;\n",
              "  }\n",
              "\n",
              "  .colab-df-quickchart {\n",
              "    background-color: var(--bg-color);\n",
              "    border: none;\n",
              "    border-radius: 50%;\n",
              "    cursor: pointer;\n",
              "    display: none;\n",
              "    fill: var(--fill-color);\n",
              "    height: 32px;\n",
              "    padding: 0;\n",
              "    width: 32px;\n",
              "  }\n",
              "\n",
              "  .colab-df-quickchart:hover {\n",
              "    background-color: var(--hover-bg-color);\n",
              "    box-shadow: 0 1px 2px rgba(60, 64, 67, 0.3), 0 1px 3px 1px rgba(60, 64, 67, 0.15);\n",
              "    fill: var(--button-hover-fill-color);\n",
              "  }\n",
              "\n",
              "  .colab-df-quickchart-complete:disabled,\n",
              "  .colab-df-quickchart-complete:disabled:hover {\n",
              "    background-color: var(--disabled-bg-color);\n",
              "    fill: var(--disabled-fill-color);\n",
              "    box-shadow: none;\n",
              "  }\n",
              "\n",
              "  .colab-df-spinner {\n",
              "    border: 2px solid var(--fill-color);\n",
              "    border-color: transparent;\n",
              "    border-bottom-color: var(--fill-color);\n",
              "    animation:\n",
              "      spin 1s steps(1) infinite;\n",
              "  }\n",
              "\n",
              "  @keyframes spin {\n",
              "    0% {\n",
              "      border-color: transparent;\n",
              "      border-bottom-color: var(--fill-color);\n",
              "      border-left-color: var(--fill-color);\n",
              "    }\n",
              "    20% {\n",
              "      border-color: transparent;\n",
              "      border-left-color: var(--fill-color);\n",
              "      border-top-color: var(--fill-color);\n",
              "    }\n",
              "    30% {\n",
              "      border-color: transparent;\n",
              "      border-left-color: var(--fill-color);\n",
              "      border-top-color: var(--fill-color);\n",
              "      border-right-color: var(--fill-color);\n",
              "    }\n",
              "    40% {\n",
              "      border-color: transparent;\n",
              "      border-right-color: var(--fill-color);\n",
              "      border-top-color: var(--fill-color);\n",
              "    }\n",
              "    60% {\n",
              "      border-color: transparent;\n",
              "      border-right-color: var(--fill-color);\n",
              "    }\n",
              "    80% {\n",
              "      border-color: transparent;\n",
              "      border-right-color: var(--fill-color);\n",
              "      border-bottom-color: var(--fill-color);\n",
              "    }\n",
              "    90% {\n",
              "      border-color: transparent;\n",
              "      border-bottom-color: var(--fill-color);\n",
              "    }\n",
              "  }\n",
              "</style>\n",
              "\n",
              "  <script>\n",
              "    async function quickchart(key) {\n",
              "      const quickchartButtonEl =\n",
              "        document.querySelector('#' + key + ' button');\n",
              "      quickchartButtonEl.disabled = true;  // To prevent multiple clicks.\n",
              "      quickchartButtonEl.classList.add('colab-df-spinner');\n",
              "      try {\n",
              "        const charts = await google.colab.kernel.invokeFunction(\n",
              "            'suggestCharts', [key], {});\n",
              "      } catch (error) {\n",
              "        console.error('Error during call to suggestCharts:', error);\n",
              "      }\n",
              "      quickchartButtonEl.classList.remove('colab-df-spinner');\n",
              "      quickchartButtonEl.classList.add('colab-df-quickchart-complete');\n",
              "    }\n",
              "    (() => {\n",
              "      let quickchartButtonEl =\n",
              "        document.querySelector('#df-212d6061-c3ac-4546-96cd-35e9f5bc99dc button');\n",
              "      quickchartButtonEl.style.display =\n",
              "        google.colab.kernel.accessAllowed ? 'block' : 'none';\n",
              "    })();\n",
              "  </script>\n",
              "</div>\n",
              "\n",
              "    </div>\n",
              "  </div>\n"
            ],
            "application/vnd.google.colaboratory.intrinsic+json": {
              "type": "dataframe",
              "variable_name": "subsample"
            }
          },
          "metadata": {},
          "execution_count": 45
        }
      ]
    },
    {
      "cell_type": "code",
      "source": [
        "#Standardize\n",
        "scaler = StandardScaler()"
      ],
      "metadata": {
        "id": "RWcBfg3Bdv-y"
      },
      "execution_count": null,
      "outputs": []
    },
    {
      "cell_type": "code",
      "source": [
        "subsample_dropped = subsample.drop('Outcome', axis=1)\n",
        "subsample_dropped_scaler = scaler.fit_transform(subsample_dropped)"
      ],
      "metadata": {
        "id": "M3MMPGiR4t15"
      },
      "execution_count": null,
      "outputs": []
    },
    {
      "cell_type": "code",
      "source": [
        "subsample_dropped"
      ],
      "metadata": {
        "colab": {
          "base_uri": "https://localhost:8080/",
          "height": 461
        },
        "id": "7Myl87NK7Hsc",
        "outputId": "0aaac1e3-e04c-4965-b9aa-0a7068aacfe8"
      },
      "execution_count": null,
      "outputs": [
        {
          "output_type": "execute_result",
          "data": {
            "text/plain": [
              "         # FP1-F7     C3-P3     C4-P4         CZ-PZ     F3-C3     F4-C4  \\\n",
              "1125183 -0.000019  0.000056  0.000052  5.450000e-05  0.000115  0.000142   \n",
              "25825    0.000015  0.000021 -0.000041 -1.470000e-05 -0.000076 -0.000044   \n",
              "792140   0.000005  0.000006 -0.000029  2.930000e-06  0.000024  0.000029   \n",
              "1954170 -0.000061 -0.000014 -0.000110 -9.350000e-05  0.000045  0.000075   \n",
              "282235  -0.000039 -0.000016 -0.000019 -1.310000e-05 -0.000015 -0.000022   \n",
              "...           ...       ...       ...           ...       ...       ...   \n",
              "1091538 -0.000045 -0.000002  0.000034 -1.310000e-05  0.000007 -0.000010   \n",
              "651403   0.000035 -0.000017 -0.000041 -3.420000e-05  0.000021  0.000033   \n",
              "2041642 -0.000198  0.000061  0.000089  3.650000e-05 -0.000057 -0.000054   \n",
              "1327862 -0.000034  0.000005  0.000006  5.860000e-07  0.000010  0.000029   \n",
              "441016   0.000022  0.000025  0.000021  2.290000e-05 -0.000007  0.000030   \n",
              "\n",
              "            F7-T7     F8-T8    FP1-F3    FP2-F4  ...     FZ-CZ     P3-O1  \\\n",
              "1125183 -0.000003  0.000140 -0.000018  0.000038  ...  0.000103  0.000074   \n",
              "25825   -0.000015 -0.000080  0.000122  0.000040  ... -0.000097 -0.000022   \n",
              "792140   0.000047  0.000020  0.000050  0.000046  ...  0.000017 -0.000030   \n",
              "1954170  0.000017  0.000004  0.000077  0.000075  ...  0.000023 -0.000184   \n",
              "282235   0.000002 -0.000040 -0.000009  0.000006  ... -0.000010  0.000014   \n",
              "...           ...       ...       ...       ...  ...       ...       ...   \n",
              "1091538 -0.000001  0.000088 -0.000033 -0.000036  ... -0.000017 -0.000013   \n",
              "651403  -0.000001  0.000068  0.000007  0.000005  ...  0.000002 -0.000040   \n",
              "2041642 -0.000268 -0.000149 -0.000126 -0.000055  ... -0.000029  0.000103   \n",
              "1327862 -0.000003 -0.000024 -0.000028 -0.000024  ...  0.000035 -0.000010   \n",
              "441016  -0.000036  0.000005 -0.000005 -0.000045  ...  0.000050 -0.000022   \n",
              "\n",
              "                P4-O2     P7-O1         P7-T7     P8-O2    T7-FT9  \\\n",
              "1125183  8.380000e-05  0.000032 -2.170450e-04 -0.000053  0.000006   \n",
              "25825    6.310000e-05 -0.000006 -4.980000e-05  0.000032 -0.000038   \n",
              "792140  -2.250000e-05  0.000071  7.480000e-05 -0.000002 -0.000024   \n",
              "1954170 -1.350920e-04 -0.000083 -5.010000e-05 -0.000002 -0.000027   \n",
              "282235  -4.880000e-06  0.000010  9.770000e-07 -0.000012 -0.000002   \n",
              "...               ...       ...           ...       ...       ...   \n",
              "1091538 -2.870000e-05  0.000016  1.310000e-05 -0.000069  0.000024   \n",
              "651403  -4.860000e-05 -0.000035  2.680000e-05 -0.000023  0.000011   \n",
              "2041642  4.200000e-05  0.000221 -2.268130e-04  0.000059  0.000199   \n",
              "1327862 -1.150000e-05  0.000010 -3.710000e-06  0.000051 -0.000003   \n",
              "441016   9.770000e-07  0.000054  5.220000e-05  0.000011  0.000061   \n",
              "\n",
              "                T7-P7   T8-P8-0   T8-P8-1  \n",
              "1125183  2.174360e-04  0.000095  0.000095  \n",
              "25825    5.020000e-05  0.000034  0.000034  \n",
              "792140  -7.440000e-05  0.000005  0.000005  \n",
              "1954170  5.070000e-05 -0.000136 -0.000136  \n",
              "282235  -5.860000e-07 -0.000012 -0.000012  \n",
              "...               ...       ...       ...  \n",
              "1091538 -1.270000e-05 -0.000055 -0.000055  \n",
              "651403  -2.640000e-05 -0.000044 -0.000044  \n",
              "2041642  2.272040e-04 -0.000047 -0.000047  \n",
              "1327862  4.100000e-06  0.000011  0.000011  \n",
              "441016  -5.180000e-05 -0.000019 -0.000019  \n",
              "\n",
              "[30000 rows x 23 columns]"
            ],
            "text/html": [
              "\n",
              "  <div id=\"df-fd770b9f-e50c-4cd9-8351-8307d06b9feb\" class=\"colab-df-container\">\n",
              "    <div>\n",
              "<style scoped>\n",
              "    .dataframe tbody tr th:only-of-type {\n",
              "        vertical-align: middle;\n",
              "    }\n",
              "\n",
              "    .dataframe tbody tr th {\n",
              "        vertical-align: top;\n",
              "    }\n",
              "\n",
              "    .dataframe thead th {\n",
              "        text-align: right;\n",
              "    }\n",
              "</style>\n",
              "<table border=\"1\" class=\"dataframe\">\n",
              "  <thead>\n",
              "    <tr style=\"text-align: right;\">\n",
              "      <th></th>\n",
              "      <th># FP1-F7</th>\n",
              "      <th>C3-P3</th>\n",
              "      <th>C4-P4</th>\n",
              "      <th>CZ-PZ</th>\n",
              "      <th>F3-C3</th>\n",
              "      <th>F4-C4</th>\n",
              "      <th>F7-T7</th>\n",
              "      <th>F8-T8</th>\n",
              "      <th>FP1-F3</th>\n",
              "      <th>FP2-F4</th>\n",
              "      <th>...</th>\n",
              "      <th>FZ-CZ</th>\n",
              "      <th>P3-O1</th>\n",
              "      <th>P4-O2</th>\n",
              "      <th>P7-O1</th>\n",
              "      <th>P7-T7</th>\n",
              "      <th>P8-O2</th>\n",
              "      <th>T7-FT9</th>\n",
              "      <th>T7-P7</th>\n",
              "      <th>T8-P8-0</th>\n",
              "      <th>T8-P8-1</th>\n",
              "    </tr>\n",
              "  </thead>\n",
              "  <tbody>\n",
              "    <tr>\n",
              "      <th>1125183</th>\n",
              "      <td>-0.000019</td>\n",
              "      <td>0.000056</td>\n",
              "      <td>0.000052</td>\n",
              "      <td>5.450000e-05</td>\n",
              "      <td>0.000115</td>\n",
              "      <td>0.000142</td>\n",
              "      <td>-0.000003</td>\n",
              "      <td>0.000140</td>\n",
              "      <td>-0.000018</td>\n",
              "      <td>0.000038</td>\n",
              "      <td>...</td>\n",
              "      <td>0.000103</td>\n",
              "      <td>0.000074</td>\n",
              "      <td>8.380000e-05</td>\n",
              "      <td>0.000032</td>\n",
              "      <td>-2.170450e-04</td>\n",
              "      <td>-0.000053</td>\n",
              "      <td>0.000006</td>\n",
              "      <td>2.174360e-04</td>\n",
              "      <td>0.000095</td>\n",
              "      <td>0.000095</td>\n",
              "    </tr>\n",
              "    <tr>\n",
              "      <th>25825</th>\n",
              "      <td>0.000015</td>\n",
              "      <td>0.000021</td>\n",
              "      <td>-0.000041</td>\n",
              "      <td>-1.470000e-05</td>\n",
              "      <td>-0.000076</td>\n",
              "      <td>-0.000044</td>\n",
              "      <td>-0.000015</td>\n",
              "      <td>-0.000080</td>\n",
              "      <td>0.000122</td>\n",
              "      <td>0.000040</td>\n",
              "      <td>...</td>\n",
              "      <td>-0.000097</td>\n",
              "      <td>-0.000022</td>\n",
              "      <td>6.310000e-05</td>\n",
              "      <td>-0.000006</td>\n",
              "      <td>-4.980000e-05</td>\n",
              "      <td>0.000032</td>\n",
              "      <td>-0.000038</td>\n",
              "      <td>5.020000e-05</td>\n",
              "      <td>0.000034</td>\n",
              "      <td>0.000034</td>\n",
              "    </tr>\n",
              "    <tr>\n",
              "      <th>792140</th>\n",
              "      <td>0.000005</td>\n",
              "      <td>0.000006</td>\n",
              "      <td>-0.000029</td>\n",
              "      <td>2.930000e-06</td>\n",
              "      <td>0.000024</td>\n",
              "      <td>0.000029</td>\n",
              "      <td>0.000047</td>\n",
              "      <td>0.000020</td>\n",
              "      <td>0.000050</td>\n",
              "      <td>0.000046</td>\n",
              "      <td>...</td>\n",
              "      <td>0.000017</td>\n",
              "      <td>-0.000030</td>\n",
              "      <td>-2.250000e-05</td>\n",
              "      <td>0.000071</td>\n",
              "      <td>7.480000e-05</td>\n",
              "      <td>-0.000002</td>\n",
              "      <td>-0.000024</td>\n",
              "      <td>-7.440000e-05</td>\n",
              "      <td>0.000005</td>\n",
              "      <td>0.000005</td>\n",
              "    </tr>\n",
              "    <tr>\n",
              "      <th>1954170</th>\n",
              "      <td>-0.000061</td>\n",
              "      <td>-0.000014</td>\n",
              "      <td>-0.000110</td>\n",
              "      <td>-9.350000e-05</td>\n",
              "      <td>0.000045</td>\n",
              "      <td>0.000075</td>\n",
              "      <td>0.000017</td>\n",
              "      <td>0.000004</td>\n",
              "      <td>0.000077</td>\n",
              "      <td>0.000075</td>\n",
              "      <td>...</td>\n",
              "      <td>0.000023</td>\n",
              "      <td>-0.000184</td>\n",
              "      <td>-1.350920e-04</td>\n",
              "      <td>-0.000083</td>\n",
              "      <td>-5.010000e-05</td>\n",
              "      <td>-0.000002</td>\n",
              "      <td>-0.000027</td>\n",
              "      <td>5.070000e-05</td>\n",
              "      <td>-0.000136</td>\n",
              "      <td>-0.000136</td>\n",
              "    </tr>\n",
              "    <tr>\n",
              "      <th>282235</th>\n",
              "      <td>-0.000039</td>\n",
              "      <td>-0.000016</td>\n",
              "      <td>-0.000019</td>\n",
              "      <td>-1.310000e-05</td>\n",
              "      <td>-0.000015</td>\n",
              "      <td>-0.000022</td>\n",
              "      <td>0.000002</td>\n",
              "      <td>-0.000040</td>\n",
              "      <td>-0.000009</td>\n",
              "      <td>0.000006</td>\n",
              "      <td>...</td>\n",
              "      <td>-0.000010</td>\n",
              "      <td>0.000014</td>\n",
              "      <td>-4.880000e-06</td>\n",
              "      <td>0.000010</td>\n",
              "      <td>9.770000e-07</td>\n",
              "      <td>-0.000012</td>\n",
              "      <td>-0.000002</td>\n",
              "      <td>-5.860000e-07</td>\n",
              "      <td>-0.000012</td>\n",
              "      <td>-0.000012</td>\n",
              "    </tr>\n",
              "    <tr>\n",
              "      <th>...</th>\n",
              "      <td>...</td>\n",
              "      <td>...</td>\n",
              "      <td>...</td>\n",
              "      <td>...</td>\n",
              "      <td>...</td>\n",
              "      <td>...</td>\n",
              "      <td>...</td>\n",
              "      <td>...</td>\n",
              "      <td>...</td>\n",
              "      <td>...</td>\n",
              "      <td>...</td>\n",
              "      <td>...</td>\n",
              "      <td>...</td>\n",
              "      <td>...</td>\n",
              "      <td>...</td>\n",
              "      <td>...</td>\n",
              "      <td>...</td>\n",
              "      <td>...</td>\n",
              "      <td>...</td>\n",
              "      <td>...</td>\n",
              "      <td>...</td>\n",
              "    </tr>\n",
              "    <tr>\n",
              "      <th>1091538</th>\n",
              "      <td>-0.000045</td>\n",
              "      <td>-0.000002</td>\n",
              "      <td>0.000034</td>\n",
              "      <td>-1.310000e-05</td>\n",
              "      <td>0.000007</td>\n",
              "      <td>-0.000010</td>\n",
              "      <td>-0.000001</td>\n",
              "      <td>0.000088</td>\n",
              "      <td>-0.000033</td>\n",
              "      <td>-0.000036</td>\n",
              "      <td>...</td>\n",
              "      <td>-0.000017</td>\n",
              "      <td>-0.000013</td>\n",
              "      <td>-2.870000e-05</td>\n",
              "      <td>0.000016</td>\n",
              "      <td>1.310000e-05</td>\n",
              "      <td>-0.000069</td>\n",
              "      <td>0.000024</td>\n",
              "      <td>-1.270000e-05</td>\n",
              "      <td>-0.000055</td>\n",
              "      <td>-0.000055</td>\n",
              "    </tr>\n",
              "    <tr>\n",
              "      <th>651403</th>\n",
              "      <td>0.000035</td>\n",
              "      <td>-0.000017</td>\n",
              "      <td>-0.000041</td>\n",
              "      <td>-3.420000e-05</td>\n",
              "      <td>0.000021</td>\n",
              "      <td>0.000033</td>\n",
              "      <td>-0.000001</td>\n",
              "      <td>0.000068</td>\n",
              "      <td>0.000007</td>\n",
              "      <td>0.000005</td>\n",
              "      <td>...</td>\n",
              "      <td>0.000002</td>\n",
              "      <td>-0.000040</td>\n",
              "      <td>-4.860000e-05</td>\n",
              "      <td>-0.000035</td>\n",
              "      <td>2.680000e-05</td>\n",
              "      <td>-0.000023</td>\n",
              "      <td>0.000011</td>\n",
              "      <td>-2.640000e-05</td>\n",
              "      <td>-0.000044</td>\n",
              "      <td>-0.000044</td>\n",
              "    </tr>\n",
              "    <tr>\n",
              "      <th>2041642</th>\n",
              "      <td>-0.000198</td>\n",
              "      <td>0.000061</td>\n",
              "      <td>0.000089</td>\n",
              "      <td>3.650000e-05</td>\n",
              "      <td>-0.000057</td>\n",
              "      <td>-0.000054</td>\n",
              "      <td>-0.000268</td>\n",
              "      <td>-0.000149</td>\n",
              "      <td>-0.000126</td>\n",
              "      <td>-0.000055</td>\n",
              "      <td>...</td>\n",
              "      <td>-0.000029</td>\n",
              "      <td>0.000103</td>\n",
              "      <td>4.200000e-05</td>\n",
              "      <td>0.000221</td>\n",
              "      <td>-2.268130e-04</td>\n",
              "      <td>0.000059</td>\n",
              "      <td>0.000199</td>\n",
              "      <td>2.272040e-04</td>\n",
              "      <td>-0.000047</td>\n",
              "      <td>-0.000047</td>\n",
              "    </tr>\n",
              "    <tr>\n",
              "      <th>1327862</th>\n",
              "      <td>-0.000034</td>\n",
              "      <td>0.000005</td>\n",
              "      <td>0.000006</td>\n",
              "      <td>5.860000e-07</td>\n",
              "      <td>0.000010</td>\n",
              "      <td>0.000029</td>\n",
              "      <td>-0.000003</td>\n",
              "      <td>-0.000024</td>\n",
              "      <td>-0.000028</td>\n",
              "      <td>-0.000024</td>\n",
              "      <td>...</td>\n",
              "      <td>0.000035</td>\n",
              "      <td>-0.000010</td>\n",
              "      <td>-1.150000e-05</td>\n",
              "      <td>0.000010</td>\n",
              "      <td>-3.710000e-06</td>\n",
              "      <td>0.000051</td>\n",
              "      <td>-0.000003</td>\n",
              "      <td>4.100000e-06</td>\n",
              "      <td>0.000011</td>\n",
              "      <td>0.000011</td>\n",
              "    </tr>\n",
              "    <tr>\n",
              "      <th>441016</th>\n",
              "      <td>0.000022</td>\n",
              "      <td>0.000025</td>\n",
              "      <td>0.000021</td>\n",
              "      <td>2.290000e-05</td>\n",
              "      <td>-0.000007</td>\n",
              "      <td>0.000030</td>\n",
              "      <td>-0.000036</td>\n",
              "      <td>0.000005</td>\n",
              "      <td>-0.000005</td>\n",
              "      <td>-0.000045</td>\n",
              "      <td>...</td>\n",
              "      <td>0.000050</td>\n",
              "      <td>-0.000022</td>\n",
              "      <td>9.770000e-07</td>\n",
              "      <td>0.000054</td>\n",
              "      <td>5.220000e-05</td>\n",
              "      <td>0.000011</td>\n",
              "      <td>0.000061</td>\n",
              "      <td>-5.180000e-05</td>\n",
              "      <td>-0.000019</td>\n",
              "      <td>-0.000019</td>\n",
              "    </tr>\n",
              "  </tbody>\n",
              "</table>\n",
              "<p>30000 rows × 23 columns</p>\n",
              "</div>\n",
              "    <div class=\"colab-df-buttons\">\n",
              "\n",
              "  <div class=\"colab-df-container\">\n",
              "    <button class=\"colab-df-convert\" onclick=\"convertToInteractive('df-fd770b9f-e50c-4cd9-8351-8307d06b9feb')\"\n",
              "            title=\"Convert this dataframe to an interactive table.\"\n",
              "            style=\"display:none;\">\n",
              "\n",
              "  <svg xmlns=\"http://www.w3.org/2000/svg\" height=\"24px\" viewBox=\"0 -960 960 960\">\n",
              "    <path d=\"M120-120v-720h720v720H120Zm60-500h600v-160H180v160Zm220 220h160v-160H400v160Zm0 220h160v-160H400v160ZM180-400h160v-160H180v160Zm440 0h160v-160H620v160ZM180-180h160v-160H180v160Zm440 0h160v-160H620v160Z\"/>\n",
              "  </svg>\n",
              "    </button>\n",
              "\n",
              "  <style>\n",
              "    .colab-df-container {\n",
              "      display:flex;\n",
              "      gap: 12px;\n",
              "    }\n",
              "\n",
              "    .colab-df-convert {\n",
              "      background-color: #E8F0FE;\n",
              "      border: none;\n",
              "      border-radius: 50%;\n",
              "      cursor: pointer;\n",
              "      display: none;\n",
              "      fill: #1967D2;\n",
              "      height: 32px;\n",
              "      padding: 0 0 0 0;\n",
              "      width: 32px;\n",
              "    }\n",
              "\n",
              "    .colab-df-convert:hover {\n",
              "      background-color: #E2EBFA;\n",
              "      box-shadow: 0px 1px 2px rgba(60, 64, 67, 0.3), 0px 1px 3px 1px rgba(60, 64, 67, 0.15);\n",
              "      fill: #174EA6;\n",
              "    }\n",
              "\n",
              "    .colab-df-buttons div {\n",
              "      margin-bottom: 4px;\n",
              "    }\n",
              "\n",
              "    [theme=dark] .colab-df-convert {\n",
              "      background-color: #3B4455;\n",
              "      fill: #D2E3FC;\n",
              "    }\n",
              "\n",
              "    [theme=dark] .colab-df-convert:hover {\n",
              "      background-color: #434B5C;\n",
              "      box-shadow: 0px 1px 3px 1px rgba(0, 0, 0, 0.15);\n",
              "      filter: drop-shadow(0px 1px 2px rgba(0, 0, 0, 0.3));\n",
              "      fill: #FFFFFF;\n",
              "    }\n",
              "  </style>\n",
              "\n",
              "    <script>\n",
              "      const buttonEl =\n",
              "        document.querySelector('#df-fd770b9f-e50c-4cd9-8351-8307d06b9feb button.colab-df-convert');\n",
              "      buttonEl.style.display =\n",
              "        google.colab.kernel.accessAllowed ? 'block' : 'none';\n",
              "\n",
              "      async function convertToInteractive(key) {\n",
              "        const element = document.querySelector('#df-fd770b9f-e50c-4cd9-8351-8307d06b9feb');\n",
              "        const dataTable =\n",
              "          await google.colab.kernel.invokeFunction('convertToInteractive',\n",
              "                                                    [key], {});\n",
              "        if (!dataTable) return;\n",
              "\n",
              "        const docLinkHtml = 'Like what you see? Visit the ' +\n",
              "          '<a target=\"_blank\" href=https://colab.research.google.com/notebooks/data_table.ipynb>data table notebook</a>'\n",
              "          + ' to learn more about interactive tables.';\n",
              "        element.innerHTML = '';\n",
              "        dataTable['output_type'] = 'display_data';\n",
              "        await google.colab.output.renderOutput(dataTable, element);\n",
              "        const docLink = document.createElement('div');\n",
              "        docLink.innerHTML = docLinkHtml;\n",
              "        element.appendChild(docLink);\n",
              "      }\n",
              "    </script>\n",
              "  </div>\n",
              "\n",
              "\n",
              "<div id=\"df-84d22efc-e744-49aa-9e3e-155ab02569a1\">\n",
              "  <button class=\"colab-df-quickchart\" onclick=\"quickchart('df-84d22efc-e744-49aa-9e3e-155ab02569a1')\"\n",
              "            title=\"Suggest charts\"\n",
              "            style=\"display:none;\">\n",
              "\n",
              "<svg xmlns=\"http://www.w3.org/2000/svg\" height=\"24px\"viewBox=\"0 0 24 24\"\n",
              "     width=\"24px\">\n",
              "    <g>\n",
              "        <path d=\"M19 3H5c-1.1 0-2 .9-2 2v14c0 1.1.9 2 2 2h14c1.1 0 2-.9 2-2V5c0-1.1-.9-2-2-2zM9 17H7v-7h2v7zm4 0h-2V7h2v10zm4 0h-2v-4h2v4z\"/>\n",
              "    </g>\n",
              "</svg>\n",
              "  </button>\n",
              "\n",
              "<style>\n",
              "  .colab-df-quickchart {\n",
              "      --bg-color: #E8F0FE;\n",
              "      --fill-color: #1967D2;\n",
              "      --hover-bg-color: #E2EBFA;\n",
              "      --hover-fill-color: #174EA6;\n",
              "      --disabled-fill-color: #AAA;\n",
              "      --disabled-bg-color: #DDD;\n",
              "  }\n",
              "\n",
              "  [theme=dark] .colab-df-quickchart {\n",
              "      --bg-color: #3B4455;\n",
              "      --fill-color: #D2E3FC;\n",
              "      --hover-bg-color: #434B5C;\n",
              "      --hover-fill-color: #FFFFFF;\n",
              "      --disabled-bg-color: #3B4455;\n",
              "      --disabled-fill-color: #666;\n",
              "  }\n",
              "\n",
              "  .colab-df-quickchart {\n",
              "    background-color: var(--bg-color);\n",
              "    border: none;\n",
              "    border-radius: 50%;\n",
              "    cursor: pointer;\n",
              "    display: none;\n",
              "    fill: var(--fill-color);\n",
              "    height: 32px;\n",
              "    padding: 0;\n",
              "    width: 32px;\n",
              "  }\n",
              "\n",
              "  .colab-df-quickchart:hover {\n",
              "    background-color: var(--hover-bg-color);\n",
              "    box-shadow: 0 1px 2px rgba(60, 64, 67, 0.3), 0 1px 3px 1px rgba(60, 64, 67, 0.15);\n",
              "    fill: var(--button-hover-fill-color);\n",
              "  }\n",
              "\n",
              "  .colab-df-quickchart-complete:disabled,\n",
              "  .colab-df-quickchart-complete:disabled:hover {\n",
              "    background-color: var(--disabled-bg-color);\n",
              "    fill: var(--disabled-fill-color);\n",
              "    box-shadow: none;\n",
              "  }\n",
              "\n",
              "  .colab-df-spinner {\n",
              "    border: 2px solid var(--fill-color);\n",
              "    border-color: transparent;\n",
              "    border-bottom-color: var(--fill-color);\n",
              "    animation:\n",
              "      spin 1s steps(1) infinite;\n",
              "  }\n",
              "\n",
              "  @keyframes spin {\n",
              "    0% {\n",
              "      border-color: transparent;\n",
              "      border-bottom-color: var(--fill-color);\n",
              "      border-left-color: var(--fill-color);\n",
              "    }\n",
              "    20% {\n",
              "      border-color: transparent;\n",
              "      border-left-color: var(--fill-color);\n",
              "      border-top-color: var(--fill-color);\n",
              "    }\n",
              "    30% {\n",
              "      border-color: transparent;\n",
              "      border-left-color: var(--fill-color);\n",
              "      border-top-color: var(--fill-color);\n",
              "      border-right-color: var(--fill-color);\n",
              "    }\n",
              "    40% {\n",
              "      border-color: transparent;\n",
              "      border-right-color: var(--fill-color);\n",
              "      border-top-color: var(--fill-color);\n",
              "    }\n",
              "    60% {\n",
              "      border-color: transparent;\n",
              "      border-right-color: var(--fill-color);\n",
              "    }\n",
              "    80% {\n",
              "      border-color: transparent;\n",
              "      border-right-color: var(--fill-color);\n",
              "      border-bottom-color: var(--fill-color);\n",
              "    }\n",
              "    90% {\n",
              "      border-color: transparent;\n",
              "      border-bottom-color: var(--fill-color);\n",
              "    }\n",
              "  }\n",
              "</style>\n",
              "\n",
              "  <script>\n",
              "    async function quickchart(key) {\n",
              "      const quickchartButtonEl =\n",
              "        document.querySelector('#' + key + ' button');\n",
              "      quickchartButtonEl.disabled = true;  // To prevent multiple clicks.\n",
              "      quickchartButtonEl.classList.add('colab-df-spinner');\n",
              "      try {\n",
              "        const charts = await google.colab.kernel.invokeFunction(\n",
              "            'suggestCharts', [key], {});\n",
              "      } catch (error) {\n",
              "        console.error('Error during call to suggestCharts:', error);\n",
              "      }\n",
              "      quickchartButtonEl.classList.remove('colab-df-spinner');\n",
              "      quickchartButtonEl.classList.add('colab-df-quickchart-complete');\n",
              "    }\n",
              "    (() => {\n",
              "      let quickchartButtonEl =\n",
              "        document.querySelector('#df-84d22efc-e744-49aa-9e3e-155ab02569a1 button');\n",
              "      quickchartButtonEl.style.display =\n",
              "        google.colab.kernel.accessAllowed ? 'block' : 'none';\n",
              "    })();\n",
              "  </script>\n",
              "</div>\n",
              "\n",
              "  <div id=\"id_44ac8c4a-f17c-41d7-8e9b-4093a46ee939\">\n",
              "    <style>\n",
              "      .colab-df-generate {\n",
              "        background-color: #E8F0FE;\n",
              "        border: none;\n",
              "        border-radius: 50%;\n",
              "        cursor: pointer;\n",
              "        display: none;\n",
              "        fill: #1967D2;\n",
              "        height: 32px;\n",
              "        padding: 0 0 0 0;\n",
              "        width: 32px;\n",
              "      }\n",
              "\n",
              "      .colab-df-generate:hover {\n",
              "        background-color: #E2EBFA;\n",
              "        box-shadow: 0px 1px 2px rgba(60, 64, 67, 0.3), 0px 1px 3px 1px rgba(60, 64, 67, 0.15);\n",
              "        fill: #174EA6;\n",
              "      }\n",
              "\n",
              "      [theme=dark] .colab-df-generate {\n",
              "        background-color: #3B4455;\n",
              "        fill: #D2E3FC;\n",
              "      }\n",
              "\n",
              "      [theme=dark] .colab-df-generate:hover {\n",
              "        background-color: #434B5C;\n",
              "        box-shadow: 0px 1px 3px 1px rgba(0, 0, 0, 0.15);\n",
              "        filter: drop-shadow(0px 1px 2px rgba(0, 0, 0, 0.3));\n",
              "        fill: #FFFFFF;\n",
              "      }\n",
              "    </style>\n",
              "    <button class=\"colab-df-generate\" onclick=\"generateWithVariable('subsample_dropped')\"\n",
              "            title=\"Generate code using this dataframe.\"\n",
              "            style=\"display:none;\">\n",
              "\n",
              "  <svg xmlns=\"http://www.w3.org/2000/svg\" height=\"24px\"viewBox=\"0 0 24 24\"\n",
              "       width=\"24px\">\n",
              "    <path d=\"M7,19H8.4L18.45,9,17,7.55,7,17.6ZM5,21V16.75L18.45,3.32a2,2,0,0,1,2.83,0l1.4,1.43a1.91,1.91,0,0,1,.58,1.4,1.91,1.91,0,0,1-.58,1.4L9.25,21ZM18.45,9,17,7.55Zm-12,3A5.31,5.31,0,0,0,4.9,8.1,5.31,5.31,0,0,0,1,6.5,5.31,5.31,0,0,0,4.9,4.9,5.31,5.31,0,0,0,6.5,1,5.31,5.31,0,0,0,8.1,4.9,5.31,5.31,0,0,0,12,6.5,5.46,5.46,0,0,0,6.5,12Z\"/>\n",
              "  </svg>\n",
              "    </button>\n",
              "    <script>\n",
              "      (() => {\n",
              "      const buttonEl =\n",
              "        document.querySelector('#id_44ac8c4a-f17c-41d7-8e9b-4093a46ee939 button.colab-df-generate');\n",
              "      buttonEl.style.display =\n",
              "        google.colab.kernel.accessAllowed ? 'block' : 'none';\n",
              "\n",
              "      buttonEl.onclick = () => {\n",
              "        google.colab.notebook.generateWithVariable('subsample_dropped');\n",
              "      }\n",
              "      })();\n",
              "    </script>\n",
              "  </div>\n",
              "\n",
              "    </div>\n",
              "  </div>\n"
            ],
            "application/vnd.google.colaboratory.intrinsic+json": {
              "type": "dataframe",
              "variable_name": "subsample_dropped"
            }
          },
          "metadata": {},
          "execution_count": 48
        }
      ]
    },
    {
      "cell_type": "code",
      "source": [
        "Z_test = linkage(subsample_dropped_scaler, method='ward', metric='euclidean')"
      ],
      "metadata": {
        "id": "HeQWrMZe5hYs"
      },
      "execution_count": null,
      "outputs": []
    },
    {
      "cell_type": "code",
      "source": [
        "#Threshold\n",
        "thres = 10"
      ],
      "metadata": {
        "id": "m8yZOVl-5qfA"
      },
      "execution_count": null,
      "outputs": []
    },
    {
      "cell_type": "code",
      "source": [
        "#Cluster labels Assigning\n",
        "cluster_labels_test = fcluster(Z_test, thres , criterion='distance')\n",
        "\n",
        "#Cluster Labels to One-Hot encoded values\n",
        "cluster_features_test = to_categorical(cluster_labels_test)\n",
        "\n",
        "#Combining Cluster Features with the scaled Data\n",
        "combined_features_test_1 = np.concatenate([subsample_dropped_scaler, cluster_features_test], axis=1)"
      ],
      "metadata": {
        "id": "d00crf5N6NFK"
      },
      "execution_count": null,
      "outputs": []
    },
    {
      "cell_type": "code",
      "source": [
        "combined_features_test.shape"
      ],
      "metadata": {
        "colab": {
          "base_uri": "https://localhost:8080/"
        },
        "id": "BycMm6fk8M_n",
        "outputId": "800cec06-251f-411e-fa7f-497cfeef4dfe"
      },
      "execution_count": null,
      "outputs": [
        {
          "output_type": "execute_result",
          "data": {
            "text/plain": [
              "(30000, 1879)"
            ]
          },
          "metadata": {},
          "execution_count": 62
        }
      ]
    },
    {
      "cell_type": "code",
      "source": [
        "#Load The Models\n",
        "cnn_model_for_test = load_model('')\n",
        "svm_for_test = pickle.load(open('', 'rb'))"
      ],
      "metadata": {
        "id": "N0t5SzTD6_9i"
      },
      "execution_count": null,
      "outputs": []
    },
    {
      "cell_type": "code",
      "source": [
        "#CNN Model Features\n",
        "cnn_features_with_clusters_test = cnn_model_for_test.predict(combined_features_test_1.reshape(combined_features_test_1.shape[0], combined_features_test_1.shape[1], 1))"
      ],
      "metadata": {
        "colab": {
          "base_uri": "https://localhost:8080/"
        },
        "id": "4zomeQ3m8Bb_",
        "outputId": "8a9a6489-7fe3-4083-bb35-1008464b8a8f"
      },
      "execution_count": null,
      "outputs": [
        {
          "output_type": "stream",
          "name": "stdout",
          "text": [
            "938/938 [==============================] - 3s 3ms/step\n"
          ]
        }
      ]
    },
    {
      "cell_type": "code",
      "source": [
        "#SVM Prediction\n",
        "svm_predictions_test = svm_for_test.predict(cnn_features_with_clusters_test)"
      ],
      "metadata": {
        "id": "yEwJZwcA88tI"
      },
      "execution_count": null,
      "outputs": []
    },
    {
      "cell_type": "code",
      "source": [
        "#10 Random Indicies\n",
        "random_indices = np.random.randint(0, len(subsample), size=10)\n",
        "\n",
        "#Selecting 10 Random Samples\n",
        "random_samples = subsample.iloc[random_indices]"
      ],
      "metadata": {
        "id": "m4KNX12o9XAW"
      },
      "execution_count": null,
      "outputs": []
    },
    {
      "cell_type": "code",
      "source": [
        "#Predicted Vs Original Outcome Comparison\n",
        "original_outcomes = random_samples['Outcome'].tolist()\n",
        "svm_predicted_outcomes_test = svm_predictions_test[random_indices]"
      ],
      "metadata": {
        "id": "3HrU6nsA_pbS"
      },
      "execution_count": null,
      "outputs": []
    },
    {
      "cell_type": "code",
      "source": [
        "print(\"Original   | SVM Predicted\")\n",
        "for i in range(10):\n",
        "    original_label = \"Ictal\" if original_outcomes[i] == 1 else \"Preictal\"\n",
        "    predicted_label = \"Ictal\" if svm_predicted_outcomes_test[i] == 1 else \"Preictal\"\n",
        "    print(f\"{original_label:<10} | {predicted_label}\")"
      ],
      "metadata": {
        "colab": {
          "base_uri": "https://localhost:8080/"
        },
        "id": "KBdW1I3B_rgK",
        "outputId": "9e3e10dd-7ad2-4212-8430-f1d3c4cd819e"
      },
      "execution_count": null,
      "outputs": [
        {
          "output_type": "stream",
          "name": "stdout",
          "text": [
            "Original   | SVM Predicted\n",
            "Preictal   | Preictal\n",
            "Preictal   | Preictal\n",
            "Preictal   | Preictal\n",
            "Ictal      | Ictal\n",
            "Preictal   | Preictal\n",
            "Ictal      | Preictal\n",
            "Ictal      | Ictal\n",
            "Preictal   | Preictal\n",
            "Ictal      | Ictal\n",
            "Preictal   | Preictal\n"
          ]
        }
      ]
    }
  ],
  "metadata": {
    "colab": {
      "collapsed_sections": [
        "dZl0TQvCIAwd",
        "OtUoDRcLDowR",
        "n51KDczqAodb",
        "czfyPwIvxdrX",
        "bWwX4gdDxjet",
        "ILKwoIoJ0N9g",
        "1JY8W8PSwlTv",
        "Bm073AOGwqIc",
        "3HzoJuCWIUWt",
        "VZR61aT53KXK",
        "QJQX3EqJ3NSy",
        "6qI74AU53RZU",
        "hrPNE6RS3VHx",
        "XxssBMyb4goc"
      ],
      "provenance": [],
      "gpuType": "T4",
      "mount_file_id": "1KW3M_5cWuhbbOQ-I5jALzLteMMMUCxYM",
      "authorship_tag": "ABX9TyOBYihY6uUEYz7ZZoOUjgLf",
      "include_colab_link": true
    },
    "kernelspec": {
      "display_name": "Python 3",
      "name": "python3"
    },
    "language_info": {
      "name": "python"
    },
    "accelerator": "GPU"
  },
  "nbformat": 4,
  "nbformat_minor": 0
}